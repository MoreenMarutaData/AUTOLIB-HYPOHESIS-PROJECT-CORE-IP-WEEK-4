{
  "nbformat": 4,
  "nbformat_minor": 0,
  "metadata": {
    "colab": {
      "name": "TITANIC DATASET.ipynb",
      "provenance": [],
      "collapsed_sections": [],
      "toc_visible": true,
      "authorship_tag": "ABX9TyP5yRsyzbOTU7EJ36jkYEuL",
      "include_colab_link": true
    },
    "kernelspec": {
      "name": "python3",
      "display_name": "Python 3"
    },
    "language_info": {
      "name": "python"
    }
  },
  "cells": [
    {
      "cell_type": "markdown",
      "metadata": {
        "id": "view-in-github",
        "colab_type": "text"
      },
      "source": [
        "<a href=\"https://colab.research.google.com/github/MoreenMarutaData/AUTOLIB-HYPOHESIS-PROJECT-CORE-IP-WEEK-4/blob/main/TITANIC_DATASET.ipynb\" target=\"_parent\"><img src=\"https://colab.research.google.com/assets/colab-badge.svg\" alt=\"Open In Colab\"/></a>"
      ]
    },
    {
      "cell_type": "code",
      "metadata": {
        "id": "eod1O4NMoE0J"
      },
      "source": [
        "import pandas as pd\n",
        "import numpy as np"
      ],
      "execution_count": 335,
      "outputs": []
    },
    {
      "cell_type": "code",
      "metadata": {
        "colab": {
          "base_uri": "https://localhost:8080/",
          "height": 200
        },
        "id": "6AwKO7cQoJOF",
        "outputId": "060c1c9c-ca5b-462a-fc4e-24911a827f14"
      },
      "source": [
        "df1_train=pd.read_csv(\"https://archive.org/download/train5_202002/train%20%285%29.csv\")\n",
        "df1_train.head()"
      ],
      "execution_count": 336,
      "outputs": [
        {
          "output_type": "execute_result",
          "data": {
            "text/html": [
              "<div>\n",
              "<style scoped>\n",
              "    .dataframe tbody tr th:only-of-type {\n",
              "        vertical-align: middle;\n",
              "    }\n",
              "\n",
              "    .dataframe tbody tr th {\n",
              "        vertical-align: top;\n",
              "    }\n",
              "\n",
              "    .dataframe thead th {\n",
              "        text-align: right;\n",
              "    }\n",
              "</style>\n",
              "<table border=\"1\" class=\"dataframe\">\n",
              "  <thead>\n",
              "    <tr style=\"text-align: right;\">\n",
              "      <th></th>\n",
              "      <th>PassengerId</th>\n",
              "      <th>Survived</th>\n",
              "      <th>Pclass</th>\n",
              "      <th>Name</th>\n",
              "      <th>Sex</th>\n",
              "      <th>Age</th>\n",
              "      <th>SibSp</th>\n",
              "      <th>Parch</th>\n",
              "      <th>Ticket</th>\n",
              "      <th>Fare</th>\n",
              "      <th>Cabin</th>\n",
              "      <th>Embarked</th>\n",
              "    </tr>\n",
              "  </thead>\n",
              "  <tbody>\n",
              "    <tr>\n",
              "      <th>0</th>\n",
              "      <td>1</td>\n",
              "      <td>0</td>\n",
              "      <td>3</td>\n",
              "      <td>Braund, Mr. Owen Harris</td>\n",
              "      <td>male</td>\n",
              "      <td>22.0</td>\n",
              "      <td>1</td>\n",
              "      <td>0</td>\n",
              "      <td>A/5 21171</td>\n",
              "      <td>7.2500</td>\n",
              "      <td>NaN</td>\n",
              "      <td>S</td>\n",
              "    </tr>\n",
              "    <tr>\n",
              "      <th>1</th>\n",
              "      <td>2</td>\n",
              "      <td>1</td>\n",
              "      <td>1</td>\n",
              "      <td>Cumings, Mrs. John Bradley (Florence Briggs Th...</td>\n",
              "      <td>female</td>\n",
              "      <td>38.0</td>\n",
              "      <td>1</td>\n",
              "      <td>0</td>\n",
              "      <td>PC 17599</td>\n",
              "      <td>71.2833</td>\n",
              "      <td>C85</td>\n",
              "      <td>C</td>\n",
              "    </tr>\n",
              "    <tr>\n",
              "      <th>2</th>\n",
              "      <td>3</td>\n",
              "      <td>1</td>\n",
              "      <td>3</td>\n",
              "      <td>Heikkinen, Miss. Laina</td>\n",
              "      <td>female</td>\n",
              "      <td>26.0</td>\n",
              "      <td>0</td>\n",
              "      <td>0</td>\n",
              "      <td>STON/O2. 3101282</td>\n",
              "      <td>7.9250</td>\n",
              "      <td>NaN</td>\n",
              "      <td>S</td>\n",
              "    </tr>\n",
              "    <tr>\n",
              "      <th>3</th>\n",
              "      <td>4</td>\n",
              "      <td>1</td>\n",
              "      <td>1</td>\n",
              "      <td>Futrelle, Mrs. Jacques Heath (Lily May Peel)</td>\n",
              "      <td>female</td>\n",
              "      <td>35.0</td>\n",
              "      <td>1</td>\n",
              "      <td>0</td>\n",
              "      <td>113803</td>\n",
              "      <td>53.1000</td>\n",
              "      <td>C123</td>\n",
              "      <td>S</td>\n",
              "    </tr>\n",
              "    <tr>\n",
              "      <th>4</th>\n",
              "      <td>5</td>\n",
              "      <td>0</td>\n",
              "      <td>3</td>\n",
              "      <td>Allen, Mr. William Henry</td>\n",
              "      <td>male</td>\n",
              "      <td>35.0</td>\n",
              "      <td>0</td>\n",
              "      <td>0</td>\n",
              "      <td>373450</td>\n",
              "      <td>8.0500</td>\n",
              "      <td>NaN</td>\n",
              "      <td>S</td>\n",
              "    </tr>\n",
              "  </tbody>\n",
              "</table>\n",
              "</div>"
            ],
            "text/plain": [
              "   PassengerId  Survived  Pclass  ...     Fare Cabin  Embarked\n",
              "0            1         0       3  ...   7.2500   NaN         S\n",
              "1            2         1       1  ...  71.2833   C85         C\n",
              "2            3         1       3  ...   7.9250   NaN         S\n",
              "3            4         1       1  ...  53.1000  C123         S\n",
              "4            5         0       3  ...   8.0500   NaN         S\n",
              "\n",
              "[5 rows x 12 columns]"
            ]
          },
          "metadata": {},
          "execution_count": 336
        }
      ]
    },
    {
      "cell_type": "code",
      "metadata": {
        "colab": {
          "base_uri": "https://localhost:8080/",
          "height": 200
        },
        "id": "9qBjo2OMoj7o",
        "outputId": "e06aef76-287f-4d6f-c117-5c2d2d259c68"
      },
      "source": [
        "df1_test=pd.read_csv(\"https://archive.org/download/test1_202002/test%20%281%29.csv\")\n",
        "df1_test.head()"
      ],
      "execution_count": 337,
      "outputs": [
        {
          "output_type": "execute_result",
          "data": {
            "text/html": [
              "<div>\n",
              "<style scoped>\n",
              "    .dataframe tbody tr th:only-of-type {\n",
              "        vertical-align: middle;\n",
              "    }\n",
              "\n",
              "    .dataframe tbody tr th {\n",
              "        vertical-align: top;\n",
              "    }\n",
              "\n",
              "    .dataframe thead th {\n",
              "        text-align: right;\n",
              "    }\n",
              "</style>\n",
              "<table border=\"1\" class=\"dataframe\">\n",
              "  <thead>\n",
              "    <tr style=\"text-align: right;\">\n",
              "      <th></th>\n",
              "      <th>PassengerId</th>\n",
              "      <th>Pclass</th>\n",
              "      <th>Name</th>\n",
              "      <th>Sex</th>\n",
              "      <th>Age</th>\n",
              "      <th>SibSp</th>\n",
              "      <th>Parch</th>\n",
              "      <th>Ticket</th>\n",
              "      <th>Fare</th>\n",
              "      <th>Cabin</th>\n",
              "      <th>Embarked</th>\n",
              "    </tr>\n",
              "  </thead>\n",
              "  <tbody>\n",
              "    <tr>\n",
              "      <th>0</th>\n",
              "      <td>892</td>\n",
              "      <td>3</td>\n",
              "      <td>Kelly, Mr. James</td>\n",
              "      <td>male</td>\n",
              "      <td>34.5</td>\n",
              "      <td>0</td>\n",
              "      <td>0</td>\n",
              "      <td>330911</td>\n",
              "      <td>7.8292</td>\n",
              "      <td>NaN</td>\n",
              "      <td>Q</td>\n",
              "    </tr>\n",
              "    <tr>\n",
              "      <th>1</th>\n",
              "      <td>893</td>\n",
              "      <td>3</td>\n",
              "      <td>Wilkes, Mrs. James (Ellen Needs)</td>\n",
              "      <td>female</td>\n",
              "      <td>47.0</td>\n",
              "      <td>1</td>\n",
              "      <td>0</td>\n",
              "      <td>363272</td>\n",
              "      <td>7.0000</td>\n",
              "      <td>NaN</td>\n",
              "      <td>S</td>\n",
              "    </tr>\n",
              "    <tr>\n",
              "      <th>2</th>\n",
              "      <td>894</td>\n",
              "      <td>2</td>\n",
              "      <td>Myles, Mr. Thomas Francis</td>\n",
              "      <td>male</td>\n",
              "      <td>62.0</td>\n",
              "      <td>0</td>\n",
              "      <td>0</td>\n",
              "      <td>240276</td>\n",
              "      <td>9.6875</td>\n",
              "      <td>NaN</td>\n",
              "      <td>Q</td>\n",
              "    </tr>\n",
              "    <tr>\n",
              "      <th>3</th>\n",
              "      <td>895</td>\n",
              "      <td>3</td>\n",
              "      <td>Wirz, Mr. Albert</td>\n",
              "      <td>male</td>\n",
              "      <td>27.0</td>\n",
              "      <td>0</td>\n",
              "      <td>0</td>\n",
              "      <td>315154</td>\n",
              "      <td>8.6625</td>\n",
              "      <td>NaN</td>\n",
              "      <td>S</td>\n",
              "    </tr>\n",
              "    <tr>\n",
              "      <th>4</th>\n",
              "      <td>896</td>\n",
              "      <td>3</td>\n",
              "      <td>Hirvonen, Mrs. Alexander (Helga E Lindqvist)</td>\n",
              "      <td>female</td>\n",
              "      <td>22.0</td>\n",
              "      <td>1</td>\n",
              "      <td>1</td>\n",
              "      <td>3101298</td>\n",
              "      <td>12.2875</td>\n",
              "      <td>NaN</td>\n",
              "      <td>S</td>\n",
              "    </tr>\n",
              "  </tbody>\n",
              "</table>\n",
              "</div>"
            ],
            "text/plain": [
              "   PassengerId  Pclass  ... Cabin Embarked\n",
              "0          892       3  ...   NaN        Q\n",
              "1          893       3  ...   NaN        S\n",
              "2          894       2  ...   NaN        Q\n",
              "3          895       3  ...   NaN        S\n",
              "4          896       3  ...   NaN        S\n",
              "\n",
              "[5 rows x 11 columns]"
            ]
          },
          "metadata": {},
          "execution_count": 337
        }
      ]
    },
    {
      "cell_type": "markdown",
      "metadata": {
        "id": "6HwOXSpDrfgI"
      },
      "source": [
        "###CHECKING, READING AND CLEANING TRAIN SET"
      ]
    },
    {
      "cell_type": "code",
      "metadata": {
        "colab": {
          "base_uri": "https://localhost:8080/",
          "height": 200
        },
        "id": "DyO5lJFBEfMz",
        "outputId": "e4438aa7-29c9-4e76-a4d2-aaa92fe6527d"
      },
      "source": [
        "df1_train.tail()"
      ],
      "execution_count": 338,
      "outputs": [
        {
          "output_type": "execute_result",
          "data": {
            "text/html": [
              "<div>\n",
              "<style scoped>\n",
              "    .dataframe tbody tr th:only-of-type {\n",
              "        vertical-align: middle;\n",
              "    }\n",
              "\n",
              "    .dataframe tbody tr th {\n",
              "        vertical-align: top;\n",
              "    }\n",
              "\n",
              "    .dataframe thead th {\n",
              "        text-align: right;\n",
              "    }\n",
              "</style>\n",
              "<table border=\"1\" class=\"dataframe\">\n",
              "  <thead>\n",
              "    <tr style=\"text-align: right;\">\n",
              "      <th></th>\n",
              "      <th>PassengerId</th>\n",
              "      <th>Survived</th>\n",
              "      <th>Pclass</th>\n",
              "      <th>Name</th>\n",
              "      <th>Sex</th>\n",
              "      <th>Age</th>\n",
              "      <th>SibSp</th>\n",
              "      <th>Parch</th>\n",
              "      <th>Ticket</th>\n",
              "      <th>Fare</th>\n",
              "      <th>Cabin</th>\n",
              "      <th>Embarked</th>\n",
              "    </tr>\n",
              "  </thead>\n",
              "  <tbody>\n",
              "    <tr>\n",
              "      <th>886</th>\n",
              "      <td>887</td>\n",
              "      <td>0</td>\n",
              "      <td>2</td>\n",
              "      <td>Montvila, Rev. Juozas</td>\n",
              "      <td>male</td>\n",
              "      <td>27.0</td>\n",
              "      <td>0</td>\n",
              "      <td>0</td>\n",
              "      <td>211536</td>\n",
              "      <td>13.00</td>\n",
              "      <td>NaN</td>\n",
              "      <td>S</td>\n",
              "    </tr>\n",
              "    <tr>\n",
              "      <th>887</th>\n",
              "      <td>888</td>\n",
              "      <td>1</td>\n",
              "      <td>1</td>\n",
              "      <td>Graham, Miss. Margaret Edith</td>\n",
              "      <td>female</td>\n",
              "      <td>19.0</td>\n",
              "      <td>0</td>\n",
              "      <td>0</td>\n",
              "      <td>112053</td>\n",
              "      <td>30.00</td>\n",
              "      <td>B42</td>\n",
              "      <td>S</td>\n",
              "    </tr>\n",
              "    <tr>\n",
              "      <th>888</th>\n",
              "      <td>889</td>\n",
              "      <td>0</td>\n",
              "      <td>3</td>\n",
              "      <td>Johnston, Miss. Catherine Helen \"Carrie\"</td>\n",
              "      <td>female</td>\n",
              "      <td>NaN</td>\n",
              "      <td>1</td>\n",
              "      <td>2</td>\n",
              "      <td>W./C. 6607</td>\n",
              "      <td>23.45</td>\n",
              "      <td>NaN</td>\n",
              "      <td>S</td>\n",
              "    </tr>\n",
              "    <tr>\n",
              "      <th>889</th>\n",
              "      <td>890</td>\n",
              "      <td>1</td>\n",
              "      <td>1</td>\n",
              "      <td>Behr, Mr. Karl Howell</td>\n",
              "      <td>male</td>\n",
              "      <td>26.0</td>\n",
              "      <td>0</td>\n",
              "      <td>0</td>\n",
              "      <td>111369</td>\n",
              "      <td>30.00</td>\n",
              "      <td>C148</td>\n",
              "      <td>C</td>\n",
              "    </tr>\n",
              "    <tr>\n",
              "      <th>890</th>\n",
              "      <td>891</td>\n",
              "      <td>0</td>\n",
              "      <td>3</td>\n",
              "      <td>Dooley, Mr. Patrick</td>\n",
              "      <td>male</td>\n",
              "      <td>32.0</td>\n",
              "      <td>0</td>\n",
              "      <td>0</td>\n",
              "      <td>370376</td>\n",
              "      <td>7.75</td>\n",
              "      <td>NaN</td>\n",
              "      <td>Q</td>\n",
              "    </tr>\n",
              "  </tbody>\n",
              "</table>\n",
              "</div>"
            ],
            "text/plain": [
              "     PassengerId  Survived  Pclass  ...   Fare Cabin  Embarked\n",
              "886          887         0       2  ...  13.00   NaN         S\n",
              "887          888         1       1  ...  30.00   B42         S\n",
              "888          889         0       3  ...  23.45   NaN         S\n",
              "889          890         1       1  ...  30.00  C148         C\n",
              "890          891         0       3  ...   7.75   NaN         Q\n",
              "\n",
              "[5 rows x 12 columns]"
            ]
          },
          "metadata": {},
          "execution_count": 338
        }
      ]
    },
    {
      "cell_type": "code",
      "metadata": {
        "colab": {
          "base_uri": "https://localhost:8080/",
          "height": 290
        },
        "id": "c6N5I_QNG-3z",
        "outputId": "70d15561-8101-4eb7-a605-2e55ab18a68a"
      },
      "source": [
        "df1_train.describe()"
      ],
      "execution_count": 339,
      "outputs": [
        {
          "output_type": "execute_result",
          "data": {
            "text/html": [
              "<div>\n",
              "<style scoped>\n",
              "    .dataframe tbody tr th:only-of-type {\n",
              "        vertical-align: middle;\n",
              "    }\n",
              "\n",
              "    .dataframe tbody tr th {\n",
              "        vertical-align: top;\n",
              "    }\n",
              "\n",
              "    .dataframe thead th {\n",
              "        text-align: right;\n",
              "    }\n",
              "</style>\n",
              "<table border=\"1\" class=\"dataframe\">\n",
              "  <thead>\n",
              "    <tr style=\"text-align: right;\">\n",
              "      <th></th>\n",
              "      <th>PassengerId</th>\n",
              "      <th>Survived</th>\n",
              "      <th>Pclass</th>\n",
              "      <th>Age</th>\n",
              "      <th>SibSp</th>\n",
              "      <th>Parch</th>\n",
              "      <th>Fare</th>\n",
              "    </tr>\n",
              "  </thead>\n",
              "  <tbody>\n",
              "    <tr>\n",
              "      <th>count</th>\n",
              "      <td>891.000000</td>\n",
              "      <td>891.000000</td>\n",
              "      <td>891.000000</td>\n",
              "      <td>714.000000</td>\n",
              "      <td>891.000000</td>\n",
              "      <td>891.000000</td>\n",
              "      <td>891.000000</td>\n",
              "    </tr>\n",
              "    <tr>\n",
              "      <th>mean</th>\n",
              "      <td>446.000000</td>\n",
              "      <td>0.383838</td>\n",
              "      <td>2.308642</td>\n",
              "      <td>29.699118</td>\n",
              "      <td>0.523008</td>\n",
              "      <td>0.381594</td>\n",
              "      <td>32.204208</td>\n",
              "    </tr>\n",
              "    <tr>\n",
              "      <th>std</th>\n",
              "      <td>257.353842</td>\n",
              "      <td>0.486592</td>\n",
              "      <td>0.836071</td>\n",
              "      <td>14.526497</td>\n",
              "      <td>1.102743</td>\n",
              "      <td>0.806057</td>\n",
              "      <td>49.693429</td>\n",
              "    </tr>\n",
              "    <tr>\n",
              "      <th>min</th>\n",
              "      <td>1.000000</td>\n",
              "      <td>0.000000</td>\n",
              "      <td>1.000000</td>\n",
              "      <td>0.420000</td>\n",
              "      <td>0.000000</td>\n",
              "      <td>0.000000</td>\n",
              "      <td>0.000000</td>\n",
              "    </tr>\n",
              "    <tr>\n",
              "      <th>25%</th>\n",
              "      <td>223.500000</td>\n",
              "      <td>0.000000</td>\n",
              "      <td>2.000000</td>\n",
              "      <td>20.125000</td>\n",
              "      <td>0.000000</td>\n",
              "      <td>0.000000</td>\n",
              "      <td>7.910400</td>\n",
              "    </tr>\n",
              "    <tr>\n",
              "      <th>50%</th>\n",
              "      <td>446.000000</td>\n",
              "      <td>0.000000</td>\n",
              "      <td>3.000000</td>\n",
              "      <td>28.000000</td>\n",
              "      <td>0.000000</td>\n",
              "      <td>0.000000</td>\n",
              "      <td>14.454200</td>\n",
              "    </tr>\n",
              "    <tr>\n",
              "      <th>75%</th>\n",
              "      <td>668.500000</td>\n",
              "      <td>1.000000</td>\n",
              "      <td>3.000000</td>\n",
              "      <td>38.000000</td>\n",
              "      <td>1.000000</td>\n",
              "      <td>0.000000</td>\n",
              "      <td>31.000000</td>\n",
              "    </tr>\n",
              "    <tr>\n",
              "      <th>max</th>\n",
              "      <td>891.000000</td>\n",
              "      <td>1.000000</td>\n",
              "      <td>3.000000</td>\n",
              "      <td>80.000000</td>\n",
              "      <td>8.000000</td>\n",
              "      <td>6.000000</td>\n",
              "      <td>512.329200</td>\n",
              "    </tr>\n",
              "  </tbody>\n",
              "</table>\n",
              "</div>"
            ],
            "text/plain": [
              "       PassengerId    Survived      Pclass  ...       SibSp       Parch        Fare\n",
              "count   891.000000  891.000000  891.000000  ...  891.000000  891.000000  891.000000\n",
              "mean    446.000000    0.383838    2.308642  ...    0.523008    0.381594   32.204208\n",
              "std     257.353842    0.486592    0.836071  ...    1.102743    0.806057   49.693429\n",
              "min       1.000000    0.000000    1.000000  ...    0.000000    0.000000    0.000000\n",
              "25%     223.500000    0.000000    2.000000  ...    0.000000    0.000000    7.910400\n",
              "50%     446.000000    0.000000    3.000000  ...    0.000000    0.000000   14.454200\n",
              "75%     668.500000    1.000000    3.000000  ...    1.000000    0.000000   31.000000\n",
              "max     891.000000    1.000000    3.000000  ...    8.000000    6.000000  512.329200\n",
              "\n",
              "[8 rows x 7 columns]"
            ]
          },
          "metadata": {},
          "execution_count": 339
        }
      ]
    },
    {
      "cell_type": "markdown",
      "metadata": {
        "id": "7gDtQ2zhHGL4"
      },
      "source": [
        "only 38% survived "
      ]
    },
    {
      "cell_type": "markdown",
      "metadata": {
        "id": "hYhFu8ASHtgj"
      },
      "source": [
        "most passengers were approximately 30yrs"
      ]
    },
    {
      "cell_type": "code",
      "metadata": {
        "colab": {
          "base_uri": "https://localhost:8080/"
        },
        "id": "FMs-oGMxp_GW",
        "outputId": "d904f7a5-4320-43d4-93ea-46bd58222f68"
      },
      "source": [
        "df1_train.info()"
      ],
      "execution_count": 340,
      "outputs": [
        {
          "output_type": "stream",
          "name": "stdout",
          "text": [
            "<class 'pandas.core.frame.DataFrame'>\n",
            "RangeIndex: 891 entries, 0 to 890\n",
            "Data columns (total 12 columns):\n",
            " #   Column       Non-Null Count  Dtype  \n",
            "---  ------       --------------  -----  \n",
            " 0   PassengerId  891 non-null    int64  \n",
            " 1   Survived     891 non-null    int64  \n",
            " 2   Pclass       891 non-null    int64  \n",
            " 3   Name         891 non-null    object \n",
            " 4   Sex          891 non-null    object \n",
            " 5   Age          714 non-null    float64\n",
            " 6   SibSp        891 non-null    int64  \n",
            " 7   Parch        891 non-null    int64  \n",
            " 8   Ticket       891 non-null    object \n",
            " 9   Fare         891 non-null    float64\n",
            " 10  Cabin        204 non-null    object \n",
            " 11  Embarked     889 non-null    object \n",
            "dtypes: float64(2), int64(5), object(5)\n",
            "memory usage: 83.7+ KB\n"
          ]
        }
      ]
    },
    {
      "cell_type": "markdown",
      "metadata": {
        "id": "5FnU8fRMB5jr"
      },
      "source": [
        "cabin and age columns have missing values with cabin having more than 50% missing values"
      ]
    },
    {
      "cell_type": "code",
      "metadata": {
        "colab": {
          "base_uri": "https://localhost:8080/"
        },
        "id": "sy8GZthsrppD",
        "outputId": "90456db4-bbf4-4500-fb10-959c099d6024"
      },
      "source": [
        "df1_train.shape"
      ],
      "execution_count": 341,
      "outputs": [
        {
          "output_type": "execute_result",
          "data": {
            "text/plain": [
              "(891, 12)"
            ]
          },
          "metadata": {},
          "execution_count": 341
        }
      ]
    },
    {
      "cell_type": "code",
      "metadata": {
        "id": "RcxhnJI5ru30",
        "colab": {
          "base_uri": "https://localhost:8080/"
        },
        "outputId": "f25a0229-3191-45a9-d049-edd8958cda5d"
      },
      "source": [
        "df1_train.dtypes"
      ],
      "execution_count": 342,
      "outputs": [
        {
          "output_type": "execute_result",
          "data": {
            "text/plain": [
              "PassengerId      int64\n",
              "Survived         int64\n",
              "Pclass           int64\n",
              "Name            object\n",
              "Sex             object\n",
              "Age            float64\n",
              "SibSp            int64\n",
              "Parch            int64\n",
              "Ticket          object\n",
              "Fare           float64\n",
              "Cabin           object\n",
              "Embarked        object\n",
              "dtype: object"
            ]
          },
          "metadata": {},
          "execution_count": 342
        }
      ]
    },
    {
      "cell_type": "code",
      "metadata": {
        "colab": {
          "base_uri": "https://localhost:8080/"
        },
        "id": "QpH_GGLVG7yU",
        "outputId": "33b7a469-c2de-435c-f862-902c35a24ef0"
      },
      "source": [
        "df1_train.duplicated().sum()"
      ],
      "execution_count": 343,
      "outputs": [
        {
          "output_type": "execute_result",
          "data": {
            "text/plain": [
              "0"
            ]
          },
          "metadata": {},
          "execution_count": 343
        }
      ]
    },
    {
      "cell_type": "markdown",
      "metadata": {
        "id": "e4wKQJySCOsk"
      },
      "source": [
        "lets check for null values"
      ]
    },
    {
      "cell_type": "code",
      "metadata": {
        "colab": {
          "base_uri": "https://localhost:8080/"
        },
        "id": "N3YiOOLoG7ua",
        "outputId": "6ed64f59-1ed7-46b7-d68f-5e76c71d7a06"
      },
      "source": [
        "df1_train.isnull().sum()"
      ],
      "execution_count": 344,
      "outputs": [
        {
          "output_type": "execute_result",
          "data": {
            "text/plain": [
              "PassengerId      0\n",
              "Survived         0\n",
              "Pclass           0\n",
              "Name             0\n",
              "Sex              0\n",
              "Age            177\n",
              "SibSp            0\n",
              "Parch            0\n",
              "Ticket           0\n",
              "Fare             0\n",
              "Cabin          687\n",
              "Embarked         2\n",
              "dtype: int64"
            ]
          },
          "metadata": {},
          "execution_count": 344
        }
      ]
    },
    {
      "cell_type": "markdown",
      "metadata": {
        "id": "JwbXOudzCR2S"
      },
      "source": [
        "lets check for unique values in the cabin column"
      ]
    },
    {
      "cell_type": "code",
      "metadata": {
        "colab": {
          "base_uri": "https://localhost:8080/"
        },
        "id": "qw9SZ6IvG7qf",
        "outputId": "ea39a67e-c390-4a95-9724-d24bfba65873"
      },
      "source": [
        "df1_train[\"Cabin\"].unique()"
      ],
      "execution_count": 345,
      "outputs": [
        {
          "output_type": "execute_result",
          "data": {
            "text/plain": [
              "array([nan, 'C85', 'C123', 'E46', 'G6', 'C103', 'D56', 'A6',\n",
              "       'C23 C25 C27', 'B78', 'D33', 'B30', 'C52', 'B28', 'C83', 'F33',\n",
              "       'F G73', 'E31', 'A5', 'D10 D12', 'D26', 'C110', 'B58 B60', 'E101',\n",
              "       'F E69', 'D47', 'B86', 'F2', 'C2', 'E33', 'B19', 'A7', 'C49', 'F4',\n",
              "       'A32', 'B4', 'B80', 'A31', 'D36', 'D15', 'C93', 'C78', 'D35',\n",
              "       'C87', 'B77', 'E67', 'B94', 'C125', 'C99', 'C118', 'D7', 'A19',\n",
              "       'B49', 'D', 'C22 C26', 'C106', 'C65', 'E36', 'C54',\n",
              "       'B57 B59 B63 B66', 'C7', 'E34', 'C32', 'B18', 'C124', 'C91', 'E40',\n",
              "       'T', 'C128', 'D37', 'B35', 'E50', 'C82', 'B96 B98', 'E10', 'E44',\n",
              "       'A34', 'C104', 'C111', 'C92', 'E38', 'D21', 'E12', 'E63', 'A14',\n",
              "       'B37', 'C30', 'D20', 'B79', 'E25', 'D46', 'B73', 'C95', 'B38',\n",
              "       'B39', 'B22', 'C86', 'C70', 'A16', 'C101', 'C68', 'A10', 'E68',\n",
              "       'B41', 'A20', 'D19', 'D50', 'D9', 'A23', 'B50', 'A26', 'D48',\n",
              "       'E58', 'C126', 'B71', 'B51 B53 B55', 'D49', 'B5', 'B20', 'F G63',\n",
              "       'C62 C64', 'E24', 'C90', 'C45', 'E8', 'B101', 'D45', 'C46', 'D30',\n",
              "       'E121', 'D11', 'E77', 'F38', 'B3', 'D6', 'B82 B84', 'D17', 'A36',\n",
              "       'B102', 'B69', 'E49', 'C47', 'D28', 'E17', 'A24', 'C50', 'B42',\n",
              "       'C148'], dtype=object)"
            ]
          },
          "metadata": {},
          "execution_count": 345
        }
      ]
    },
    {
      "cell_type": "markdown",
      "metadata": {
        "id": "ZkfLptNwCqKk"
      },
      "source": [
        "lets check for unique values in the embark column"
      ]
    },
    {
      "cell_type": "code",
      "metadata": {
        "colab": {
          "base_uri": "https://localhost:8080/"
        },
        "id": "L6B3TBksCpl-",
        "outputId": "d99bc595-99ab-4b4e-9040-0c47bbb1a903"
      },
      "source": [
        "df1_train[\"Embarked\"].unique()"
      ],
      "execution_count": 346,
      "outputs": [
        {
          "output_type": "execute_result",
          "data": {
            "text/plain": [
              "array(['S', 'C', 'Q', nan], dtype=object)"
            ]
          },
          "metadata": {},
          "execution_count": 346
        }
      ]
    },
    {
      "cell_type": "code",
      "metadata": {
        "colab": {
          "base_uri": "https://localhost:8080/",
          "height": 108
        },
        "id": "17Gt0XMRWwaq",
        "outputId": "bdc38c13-c559-484f-a074-936033af950a"
      },
      "source": [
        "# lets check the missing values in the embarked column\n",
        "df1_train.loc[df1_train[\"Embarked\"].isnull()]"
      ],
      "execution_count": 347,
      "outputs": [
        {
          "output_type": "execute_result",
          "data": {
            "text/html": [
              "<div>\n",
              "<style scoped>\n",
              "    .dataframe tbody tr th:only-of-type {\n",
              "        vertical-align: middle;\n",
              "    }\n",
              "\n",
              "    .dataframe tbody tr th {\n",
              "        vertical-align: top;\n",
              "    }\n",
              "\n",
              "    .dataframe thead th {\n",
              "        text-align: right;\n",
              "    }\n",
              "</style>\n",
              "<table border=\"1\" class=\"dataframe\">\n",
              "  <thead>\n",
              "    <tr style=\"text-align: right;\">\n",
              "      <th></th>\n",
              "      <th>PassengerId</th>\n",
              "      <th>Survived</th>\n",
              "      <th>Pclass</th>\n",
              "      <th>Name</th>\n",
              "      <th>Sex</th>\n",
              "      <th>Age</th>\n",
              "      <th>SibSp</th>\n",
              "      <th>Parch</th>\n",
              "      <th>Ticket</th>\n",
              "      <th>Fare</th>\n",
              "      <th>Cabin</th>\n",
              "      <th>Embarked</th>\n",
              "    </tr>\n",
              "  </thead>\n",
              "  <tbody>\n",
              "    <tr>\n",
              "      <th>61</th>\n",
              "      <td>62</td>\n",
              "      <td>1</td>\n",
              "      <td>1</td>\n",
              "      <td>Icard, Miss. Amelie</td>\n",
              "      <td>female</td>\n",
              "      <td>38.0</td>\n",
              "      <td>0</td>\n",
              "      <td>0</td>\n",
              "      <td>113572</td>\n",
              "      <td>80.0</td>\n",
              "      <td>B28</td>\n",
              "      <td>NaN</td>\n",
              "    </tr>\n",
              "    <tr>\n",
              "      <th>829</th>\n",
              "      <td>830</td>\n",
              "      <td>1</td>\n",
              "      <td>1</td>\n",
              "      <td>Stone, Mrs. George Nelson (Martha Evelyn)</td>\n",
              "      <td>female</td>\n",
              "      <td>62.0</td>\n",
              "      <td>0</td>\n",
              "      <td>0</td>\n",
              "      <td>113572</td>\n",
              "      <td>80.0</td>\n",
              "      <td>B28</td>\n",
              "      <td>NaN</td>\n",
              "    </tr>\n",
              "  </tbody>\n",
              "</table>\n",
              "</div>"
            ],
            "text/plain": [
              "     PassengerId  Survived  Pclass  ...  Fare Cabin  Embarked\n",
              "61            62         1       1  ...  80.0   B28       NaN\n",
              "829          830         1       1  ...  80.0   B28       NaN\n",
              "\n",
              "[2 rows x 12 columns]"
            ]
          },
          "metadata": {},
          "execution_count": 347
        }
      ]
    },
    {
      "cell_type": "code",
      "metadata": {
        "colab": {
          "base_uri": "https://localhost:8080/"
        },
        "id": "39npZWO-CpLn",
        "outputId": "3a8ec2ce-1bac-496a-bbd8-d693007362a2"
      },
      "source": [
        "df1_train[\"Embarked\"].value_counts()"
      ],
      "execution_count": 348,
      "outputs": [
        {
          "output_type": "execute_result",
          "data": {
            "text/plain": [
              "S    644\n",
              "C    168\n",
              "Q     77\n",
              "Name: Embarked, dtype: int64"
            ]
          },
          "metadata": {},
          "execution_count": 348
        }
      ]
    },
    {
      "cell_type": "code",
      "metadata": {
        "colab": {
          "base_uri": "https://localhost:8080/"
        },
        "id": "LKIJY46Gb7O8",
        "outputId": "adda5e57-2513-4c0e-d8f1-7e765534591d"
      },
      "source": [
        "# Fill null values with 'S'for most common occurence\n",
        "common = 'S'\n",
        "df1_train['Embarked']=df1_train['Embarked'].fillna('S')\n",
        "\n",
        "# Checking the no of null values now\n",
        "df1_train['Embarked'].isnull().sum()"
      ],
      "execution_count": 349,
      "outputs": [
        {
          "output_type": "execute_result",
          "data": {
            "text/plain": [
              "0"
            ]
          },
          "metadata": {},
          "execution_count": 349
        }
      ]
    },
    {
      "cell_type": "markdown",
      "metadata": {
        "id": "RRA6ragqYRNp"
      },
      "source": [
        ""
      ]
    },
    {
      "cell_type": "markdown",
      "metadata": {
        "id": "rVDMjC1JfIdg"
      },
      "source": [
        "from exploration of the dataset we can guess that “SibSp” and “Parch” together would make up a “FamilySize” so lets create a new feature for that"
      ]
    },
    {
      "cell_type": "code",
      "metadata": {
        "colab": {
          "base_uri": "https://localhost:8080/",
          "height": 351
        },
        "id": "M83rXoF0Xslf",
        "outputId": "da15adf0-b611-4e29-cddb-4f4dc20dcf61"
      },
      "source": [
        "df1_train['FamilySize'] = df1_train['SibSp'] + df1_train['Parch']\n",
        "df1_train.groupby('FamilySize').agg({\"FamilySize\" : 'count', \"Survived\" : 'mean'}).sort_index()"
      ],
      "execution_count": 350,
      "outputs": [
        {
          "output_type": "execute_result",
          "data": {
            "text/html": [
              "<div>\n",
              "<style scoped>\n",
              "    .dataframe tbody tr th:only-of-type {\n",
              "        vertical-align: middle;\n",
              "    }\n",
              "\n",
              "    .dataframe tbody tr th {\n",
              "        vertical-align: top;\n",
              "    }\n",
              "\n",
              "    .dataframe thead th {\n",
              "        text-align: right;\n",
              "    }\n",
              "</style>\n",
              "<table border=\"1\" class=\"dataframe\">\n",
              "  <thead>\n",
              "    <tr style=\"text-align: right;\">\n",
              "      <th></th>\n",
              "      <th>FamilySize</th>\n",
              "      <th>Survived</th>\n",
              "    </tr>\n",
              "    <tr>\n",
              "      <th>FamilySize</th>\n",
              "      <th></th>\n",
              "      <th></th>\n",
              "    </tr>\n",
              "  </thead>\n",
              "  <tbody>\n",
              "    <tr>\n",
              "      <th>0</th>\n",
              "      <td>537</td>\n",
              "      <td>0.303538</td>\n",
              "    </tr>\n",
              "    <tr>\n",
              "      <th>1</th>\n",
              "      <td>161</td>\n",
              "      <td>0.552795</td>\n",
              "    </tr>\n",
              "    <tr>\n",
              "      <th>2</th>\n",
              "      <td>102</td>\n",
              "      <td>0.578431</td>\n",
              "    </tr>\n",
              "    <tr>\n",
              "      <th>3</th>\n",
              "      <td>29</td>\n",
              "      <td>0.724138</td>\n",
              "    </tr>\n",
              "    <tr>\n",
              "      <th>4</th>\n",
              "      <td>15</td>\n",
              "      <td>0.200000</td>\n",
              "    </tr>\n",
              "    <tr>\n",
              "      <th>5</th>\n",
              "      <td>22</td>\n",
              "      <td>0.136364</td>\n",
              "    </tr>\n",
              "    <tr>\n",
              "      <th>6</th>\n",
              "      <td>12</td>\n",
              "      <td>0.333333</td>\n",
              "    </tr>\n",
              "    <tr>\n",
              "      <th>7</th>\n",
              "      <td>6</td>\n",
              "      <td>0.000000</td>\n",
              "    </tr>\n",
              "    <tr>\n",
              "      <th>10</th>\n",
              "      <td>7</td>\n",
              "      <td>0.000000</td>\n",
              "    </tr>\n",
              "  </tbody>\n",
              "</table>\n",
              "</div>"
            ],
            "text/plain": [
              "            FamilySize  Survived\n",
              "FamilySize                      \n",
              "0                  537  0.303538\n",
              "1                  161  0.552795\n",
              "2                  102  0.578431\n",
              "3                   29  0.724138\n",
              "4                   15  0.200000\n",
              "5                   22  0.136364\n",
              "6                   12  0.333333\n",
              "7                    6  0.000000\n",
              "10                   7  0.000000"
            ]
          },
          "metadata": {},
          "execution_count": 350
        }
      ]
    },
    {
      "cell_type": "code",
      "metadata": {
        "colab": {
          "base_uri": "https://localhost:8080/"
        },
        "id": "TUNkqlEKW1Nh",
        "outputId": "fb17e6b6-0e29-4883-bfbb-ee81021c4358"
      },
      "source": [
        "df1_train.isnull().sum()"
      ],
      "execution_count": 351,
      "outputs": [
        {
          "output_type": "execute_result",
          "data": {
            "text/plain": [
              "PassengerId      0\n",
              "Survived         0\n",
              "Pclass           0\n",
              "Name             0\n",
              "Sex              0\n",
              "Age            177\n",
              "SibSp            0\n",
              "Parch            0\n",
              "Ticket           0\n",
              "Fare             0\n",
              "Cabin          687\n",
              "Embarked         0\n",
              "FamilySize       0\n",
              "dtype: int64"
            ]
          },
          "metadata": {},
          "execution_count": 351
        }
      ]
    },
    {
      "cell_type": "markdown",
      "metadata": {
        "id": "tT7q3PIsKfpy"
      },
      "source": [
        "looking at the age column"
      ]
    },
    {
      "cell_type": "markdown",
      "metadata": {
        "id": "EXudHh4IL7be"
      },
      "source": [
        "lets replace the missing values of age column with the median of each group"
      ]
    },
    {
      "cell_type": "code",
      "metadata": {
        "id": "c69evCoSCpHg"
      },
      "source": [
        "df1_train[\"Age\"]=df1_train.groupby([\"Pclass\",\"Sex\"])[\"Age\"].apply(lambda x: x.fillna(x.median()))"
      ],
      "execution_count": 352,
      "outputs": []
    },
    {
      "cell_type": "markdown",
      "metadata": {
        "id": "m4-AO3ZRiuYJ"
      },
      "source": [
        "lets check unique values for all columns"
      ]
    },
    {
      "cell_type": "code",
      "metadata": {
        "colab": {
          "base_uri": "https://localhost:8080/"
        },
        "id": "wb1aSdRXVjsC",
        "outputId": "b725d145-e037-4000-e701-f5c9bc12b6b8"
      },
      "source": [
        "column_names = df1_train.columns.to_list()\n",
        "\n",
        "for col in column_names:\n",
        "  print(f'Column: {col} \\n')\n",
        "  print(df1_train[col].unique())\n",
        "  print('\\n')"
      ],
      "execution_count": 353,
      "outputs": [
        {
          "output_type": "stream",
          "name": "stdout",
          "text": [
            "Column: PassengerId \n",
            "\n",
            "[  1   2   3   4   5   6   7   8   9  10  11  12  13  14  15  16  17  18\n",
            "  19  20  21  22  23  24  25  26  27  28  29  30  31  32  33  34  35  36\n",
            "  37  38  39  40  41  42  43  44  45  46  47  48  49  50  51  52  53  54\n",
            "  55  56  57  58  59  60  61  62  63  64  65  66  67  68  69  70  71  72\n",
            "  73  74  75  76  77  78  79  80  81  82  83  84  85  86  87  88  89  90\n",
            "  91  92  93  94  95  96  97  98  99 100 101 102 103 104 105 106 107 108\n",
            " 109 110 111 112 113 114 115 116 117 118 119 120 121 122 123 124 125 126\n",
            " 127 128 129 130 131 132 133 134 135 136 137 138 139 140 141 142 143 144\n",
            " 145 146 147 148 149 150 151 152 153 154 155 156 157 158 159 160 161 162\n",
            " 163 164 165 166 167 168 169 170 171 172 173 174 175 176 177 178 179 180\n",
            " 181 182 183 184 185 186 187 188 189 190 191 192 193 194 195 196 197 198\n",
            " 199 200 201 202 203 204 205 206 207 208 209 210 211 212 213 214 215 216\n",
            " 217 218 219 220 221 222 223 224 225 226 227 228 229 230 231 232 233 234\n",
            " 235 236 237 238 239 240 241 242 243 244 245 246 247 248 249 250 251 252\n",
            " 253 254 255 256 257 258 259 260 261 262 263 264 265 266 267 268 269 270\n",
            " 271 272 273 274 275 276 277 278 279 280 281 282 283 284 285 286 287 288\n",
            " 289 290 291 292 293 294 295 296 297 298 299 300 301 302 303 304 305 306\n",
            " 307 308 309 310 311 312 313 314 315 316 317 318 319 320 321 322 323 324\n",
            " 325 326 327 328 329 330 331 332 333 334 335 336 337 338 339 340 341 342\n",
            " 343 344 345 346 347 348 349 350 351 352 353 354 355 356 357 358 359 360\n",
            " 361 362 363 364 365 366 367 368 369 370 371 372 373 374 375 376 377 378\n",
            " 379 380 381 382 383 384 385 386 387 388 389 390 391 392 393 394 395 396\n",
            " 397 398 399 400 401 402 403 404 405 406 407 408 409 410 411 412 413 414\n",
            " 415 416 417 418 419 420 421 422 423 424 425 426 427 428 429 430 431 432\n",
            " 433 434 435 436 437 438 439 440 441 442 443 444 445 446 447 448 449 450\n",
            " 451 452 453 454 455 456 457 458 459 460 461 462 463 464 465 466 467 468\n",
            " 469 470 471 472 473 474 475 476 477 478 479 480 481 482 483 484 485 486\n",
            " 487 488 489 490 491 492 493 494 495 496 497 498 499 500 501 502 503 504\n",
            " 505 506 507 508 509 510 511 512 513 514 515 516 517 518 519 520 521 522\n",
            " 523 524 525 526 527 528 529 530 531 532 533 534 535 536 537 538 539 540\n",
            " 541 542 543 544 545 546 547 548 549 550 551 552 553 554 555 556 557 558\n",
            " 559 560 561 562 563 564 565 566 567 568 569 570 571 572 573 574 575 576\n",
            " 577 578 579 580 581 582 583 584 585 586 587 588 589 590 591 592 593 594\n",
            " 595 596 597 598 599 600 601 602 603 604 605 606 607 608 609 610 611 612\n",
            " 613 614 615 616 617 618 619 620 621 622 623 624 625 626 627 628 629 630\n",
            " 631 632 633 634 635 636 637 638 639 640 641 642 643 644 645 646 647 648\n",
            " 649 650 651 652 653 654 655 656 657 658 659 660 661 662 663 664 665 666\n",
            " 667 668 669 670 671 672 673 674 675 676 677 678 679 680 681 682 683 684\n",
            " 685 686 687 688 689 690 691 692 693 694 695 696 697 698 699 700 701 702\n",
            " 703 704 705 706 707 708 709 710 711 712 713 714 715 716 717 718 719 720\n",
            " 721 722 723 724 725 726 727 728 729 730 731 732 733 734 735 736 737 738\n",
            " 739 740 741 742 743 744 745 746 747 748 749 750 751 752 753 754 755 756\n",
            " 757 758 759 760 761 762 763 764 765 766 767 768 769 770 771 772 773 774\n",
            " 775 776 777 778 779 780 781 782 783 784 785 786 787 788 789 790 791 792\n",
            " 793 794 795 796 797 798 799 800 801 802 803 804 805 806 807 808 809 810\n",
            " 811 812 813 814 815 816 817 818 819 820 821 822 823 824 825 826 827 828\n",
            " 829 830 831 832 833 834 835 836 837 838 839 840 841 842 843 844 845 846\n",
            " 847 848 849 850 851 852 853 854 855 856 857 858 859 860 861 862 863 864\n",
            " 865 866 867 868 869 870 871 872 873 874 875 876 877 878 879 880 881 882\n",
            " 883 884 885 886 887 888 889 890 891]\n",
            "\n",
            "\n",
            "Column: Survived \n",
            "\n",
            "[0 1]\n",
            "\n",
            "\n",
            "Column: Pclass \n",
            "\n",
            "[3 1 2]\n",
            "\n",
            "\n",
            "Column: Name \n",
            "\n",
            "['Braund, Mr. Owen Harris'\n",
            " 'Cumings, Mrs. John Bradley (Florence Briggs Thayer)'\n",
            " 'Heikkinen, Miss. Laina' 'Futrelle, Mrs. Jacques Heath (Lily May Peel)'\n",
            " 'Allen, Mr. William Henry' 'Moran, Mr. James' 'McCarthy, Mr. Timothy J'\n",
            " 'Palsson, Master. Gosta Leonard'\n",
            " 'Johnson, Mrs. Oscar W (Elisabeth Vilhelmina Berg)'\n",
            " 'Nasser, Mrs. Nicholas (Adele Achem)' 'Sandstrom, Miss. Marguerite Rut'\n",
            " 'Bonnell, Miss. Elizabeth' 'Saundercock, Mr. William Henry'\n",
            " 'Andersson, Mr. Anders Johan' 'Vestrom, Miss. Hulda Amanda Adolfina'\n",
            " 'Hewlett, Mrs. (Mary D Kingcome) ' 'Rice, Master. Eugene'\n",
            " 'Williams, Mr. Charles Eugene'\n",
            " 'Vander Planke, Mrs. Julius (Emelia Maria Vandemoortele)'\n",
            " 'Masselmani, Mrs. Fatima' 'Fynney, Mr. Joseph J' 'Beesley, Mr. Lawrence'\n",
            " 'McGowan, Miss. Anna \"Annie\"' 'Sloper, Mr. William Thompson'\n",
            " 'Palsson, Miss. Torborg Danira'\n",
            " 'Asplund, Mrs. Carl Oscar (Selma Augusta Emilia Johansson)'\n",
            " 'Emir, Mr. Farred Chehab' 'Fortune, Mr. Charles Alexander'\n",
            " 'O\\'Dwyer, Miss. Ellen \"Nellie\"' 'Todoroff, Mr. Lalio'\n",
            " 'Uruchurtu, Don. Manuel E'\n",
            " 'Spencer, Mrs. William Augustus (Marie Eugenie)'\n",
            " 'Glynn, Miss. Mary Agatha' 'Wheadon, Mr. Edward H'\n",
            " 'Meyer, Mr. Edgar Joseph' 'Holverson, Mr. Alexander Oskar'\n",
            " 'Mamee, Mr. Hanna' 'Cann, Mr. Ernest Charles'\n",
            " 'Vander Planke, Miss. Augusta Maria' 'Nicola-Yarred, Miss. Jamila'\n",
            " 'Ahlin, Mrs. Johan (Johanna Persdotter Larsson)'\n",
            " 'Turpin, Mrs. William John Robert (Dorothy Ann Wonnacott)'\n",
            " 'Kraeff, Mr. Theodor' 'Laroche, Miss. Simonne Marie Anne Andree'\n",
            " 'Devaney, Miss. Margaret Delia' 'Rogers, Mr. William John'\n",
            " 'Lennon, Mr. Denis' \"O'Driscoll, Miss. Bridget\" 'Samaan, Mr. Youssef'\n",
            " 'Arnold-Franchi, Mrs. Josef (Josefine Franchi)'\n",
            " 'Panula, Master. Juha Niilo' 'Nosworthy, Mr. Richard Cater'\n",
            " 'Harper, Mrs. Henry Sleeper (Myna Haxtun)'\n",
            " 'Faunthorpe, Mrs. Lizzie (Elizabeth Anne Wilkinson)'\n",
            " 'Ostby, Mr. Engelhart Cornelius' 'Woolner, Mr. Hugh' 'Rugg, Miss. Emily'\n",
            " 'Novel, Mr. Mansouer' 'West, Miss. Constance Mirium'\n",
            " 'Goodwin, Master. William Frederick' 'Sirayanian, Mr. Orsen'\n",
            " 'Icard, Miss. Amelie' 'Harris, Mr. Henry Birkhardt'\n",
            " 'Skoog, Master. Harald' 'Stewart, Mr. Albert A'\n",
            " 'Moubarek, Master. Gerios' 'Nye, Mrs. (Elizabeth Ramell)'\n",
            " 'Crease, Mr. Ernest James' 'Andersson, Miss. Erna Alexandra'\n",
            " 'Kink, Mr. Vincenz' 'Jenkin, Mr. Stephen Curnow'\n",
            " 'Goodwin, Miss. Lillian Amy' 'Hood, Mr. Ambrose Jr'\n",
            " 'Chronopoulos, Mr. Apostolos' 'Bing, Mr. Lee' 'Moen, Mr. Sigurd Hansen'\n",
            " 'Staneff, Mr. Ivan' 'Moutal, Mr. Rahamin Haim'\n",
            " 'Caldwell, Master. Alden Gates' 'Dowdell, Miss. Elizabeth'\n",
            " 'Waelens, Mr. Achille' 'Sheerlinck, Mr. Jan Baptist'\n",
            " 'McDermott, Miss. Brigdet Delia' 'Carrau, Mr. Francisco M'\n",
            " 'Ilett, Miss. Bertha'\n",
            " 'Backstrom, Mrs. Karl Alfred (Maria Mathilda Gustafsson)'\n",
            " 'Ford, Mr. William Neal' 'Slocovski, Mr. Selman Francis'\n",
            " 'Fortune, Miss. Mabel Helen' 'Celotti, Mr. Francesco'\n",
            " 'Christmann, Mr. Emil' 'Andreasson, Mr. Paul Edvin'\n",
            " 'Chaffee, Mr. Herbert Fuller' 'Dean, Mr. Bertram Frank'\n",
            " 'Coxon, Mr. Daniel' 'Shorney, Mr. Charles Joseph'\n",
            " 'Goldschmidt, Mr. George B' 'Greenfield, Mr. William Bertram'\n",
            " 'Doling, Mrs. John T (Ada Julia Bone)' 'Kantor, Mr. Sinai'\n",
            " 'Petranec, Miss. Matilda' 'Petroff, Mr. Pastcho (\"Pentcho\")'\n",
            " 'White, Mr. Richard Frasar' 'Johansson, Mr. Gustaf Joel'\n",
            " 'Gustafsson, Mr. Anders Vilhelm' 'Mionoff, Mr. Stoytcho'\n",
            " 'Salkjelsvik, Miss. Anna Kristine' 'Moss, Mr. Albert Johan'\n",
            " 'Rekic, Mr. Tido' 'Moran, Miss. Bertha' 'Porter, Mr. Walter Chamberlain'\n",
            " 'Zabour, Miss. Hileni' 'Barton, Mr. David John' 'Jussila, Miss. Katriina'\n",
            " 'Attalah, Miss. Malake' 'Pekoniemi, Mr. Edvard' 'Connors, Mr. Patrick'\n",
            " 'Turpin, Mr. William John Robert' 'Baxter, Mr. Quigg Edmond'\n",
            " 'Andersson, Miss. Ellis Anna Maria' 'Hickman, Mr. Stanley George'\n",
            " 'Moore, Mr. Leonard Charles' 'Nasser, Mr. Nicholas' 'Webber, Miss. Susan'\n",
            " 'White, Mr. Percival Wayland' 'Nicola-Yarred, Master. Elias'\n",
            " 'McMahon, Mr. Martin' 'Madsen, Mr. Fridtjof Arne' 'Peter, Miss. Anna'\n",
            " 'Ekstrom, Mr. Johan' 'Drazenoic, Mr. Jozef'\n",
            " 'Coelho, Mr. Domingos Fernandeo'\n",
            " 'Robins, Mrs. Alexander A (Grace Charity Laury)'\n",
            " 'Weisz, Mrs. Leopold (Mathilde Francoise Pede)'\n",
            " 'Sobey, Mr. Samuel James Hayden' 'Richard, Mr. Emile'\n",
            " 'Newsom, Miss. Helen Monypeny' 'Futrelle, Mr. Jacques Heath'\n",
            " 'Osen, Mr. Olaf Elon' 'Giglio, Mr. Victor'\n",
            " 'Boulos, Mrs. Joseph (Sultana)' 'Nysten, Miss. Anna Sofia'\n",
            " 'Hakkarainen, Mrs. Pekka Pietari (Elin Matilda Dolck)'\n",
            " 'Burke, Mr. Jeremiah' 'Andrew, Mr. Edgardo Samuel'\n",
            " 'Nicholls, Mr. Joseph Charles'\n",
            " 'Andersson, Mr. August Edvard (\"Wennerstrom\")'\n",
            " 'Ford, Miss. Robina Maggie \"Ruby\"'\n",
            " 'Navratil, Mr. Michel (\"Louis M Hoffman\")'\n",
            " 'Byles, Rev. Thomas Roussel Davids' 'Bateman, Rev. Robert James'\n",
            " 'Pears, Mrs. Thomas (Edith Wearne)' 'Meo, Mr. Alfonzo'\n",
            " 'van Billiard, Mr. Austin Blyler' 'Olsen, Mr. Ole Martin'\n",
            " 'Williams, Mr. Charles Duane' 'Gilnagh, Miss. Katherine \"Katie\"'\n",
            " 'Corn, Mr. Harry' 'Smiljanic, Mr. Mile' 'Sage, Master. Thomas Henry'\n",
            " 'Cribb, Mr. John Hatfield'\n",
            " 'Watt, Mrs. James (Elizabeth \"Bessie\" Inglis Milne)'\n",
            " 'Bengtsson, Mr. John Viktor' 'Calic, Mr. Jovo'\n",
            " 'Panula, Master. Eino Viljami'\n",
            " 'Goldsmith, Master. Frank John William \"Frankie\"'\n",
            " 'Chibnall, Mrs. (Edith Martha Bowerman)'\n",
            " 'Skoog, Mrs. William (Anna Bernhardina Karlsson)' 'Baumann, Mr. John D'\n",
            " 'Ling, Mr. Lee' 'Van der hoef, Mr. Wyckoff' 'Rice, Master. Arthur'\n",
            " 'Johnson, Miss. Eleanor Ileen' 'Sivola, Mr. Antti Wilhelm'\n",
            " 'Smith, Mr. James Clinch' 'Klasen, Mr. Klas Albin'\n",
            " 'Lefebre, Master. Henry Forbes' 'Isham, Miss. Ann Elizabeth'\n",
            " 'Hale, Mr. Reginald' 'Leonard, Mr. Lionel' 'Sage, Miss. Constance Gladys'\n",
            " 'Pernot, Mr. Rene' 'Asplund, Master. Clarence Gustaf Hugo'\n",
            " 'Becker, Master. Richard F' 'Kink-Heilmann, Miss. Luise Gretchen'\n",
            " 'Rood, Mr. Hugh Roscoe'\n",
            " 'O\\'Brien, Mrs. Thomas (Johanna \"Hannah\" Godfrey)'\n",
            " 'Romaine, Mr. Charles Hallace (\"Mr C Rolmane\")' 'Bourke, Mr. John'\n",
            " 'Turcin, Mr. Stjepan' 'Pinsky, Mrs. (Rosa)' 'Carbines, Mr. William'\n",
            " 'Andersen-Jensen, Miss. Carla Christine Nielsine'\n",
            " 'Navratil, Master. Michel M' 'Brown, Mrs. James Joseph (Margaret Tobin)'\n",
            " 'Lurette, Miss. Elise' 'Mernagh, Mr. Robert'\n",
            " 'Olsen, Mr. Karl Siegwart Andreas' 'Madigan, Miss. Margaret \"Maggie\"'\n",
            " 'Yrois, Miss. Henriette (\"Mrs Harbeck\")' 'Vande Walle, Mr. Nestor Cyriel'\n",
            " 'Sage, Mr. Frederick' 'Johanson, Mr. Jakob Alfred' 'Youseff, Mr. Gerious'\n",
            " 'Cohen, Mr. Gurshon \"Gus\"' 'Strom, Miss. Telma Matilda'\n",
            " 'Backstrom, Mr. Karl Alfred' 'Albimona, Mr. Nassef Cassem'\n",
            " 'Carr, Miss. Helen \"Ellen\"' 'Blank, Mr. Henry' 'Ali, Mr. Ahmed'\n",
            " 'Cameron, Miss. Clear Annie' 'Perkin, Mr. John Henry'\n",
            " 'Givard, Mr. Hans Kristensen' 'Kiernan, Mr. Philip'\n",
            " 'Newell, Miss. Madeleine' 'Honkanen, Miss. Eliina'\n",
            " 'Jacobsohn, Mr. Sidney Samuel' 'Bazzani, Miss. Albina'\n",
            " 'Harris, Mr. Walter' 'Sunderland, Mr. Victor Francis'\n",
            " 'Bracken, Mr. James H' 'Green, Mr. George Henry' 'Nenkoff, Mr. Christo'\n",
            " 'Hoyt, Mr. Frederick Maxfield' 'Berglund, Mr. Karl Ivar Sven'\n",
            " 'Mellors, Mr. William John' 'Lovell, Mr. John Hall (\"Henry\")'\n",
            " 'Fahlstrom, Mr. Arne Jonas' 'Lefebre, Miss. Mathilde'\n",
            " 'Harris, Mrs. Henry Birkhardt (Irene Wallach)' 'Larsson, Mr. Bengt Edvin'\n",
            " 'Sjostedt, Mr. Ernst Adolf' 'Asplund, Miss. Lillian Gertrud'\n",
            " 'Leyson, Mr. Robert William Norman' 'Harknett, Miss. Alice Phoebe'\n",
            " 'Hold, Mr. Stephen' 'Collyer, Miss. Marjorie \"Lottie\"'\n",
            " 'Pengelly, Mr. Frederick William' 'Hunt, Mr. George Henry'\n",
            " 'Zabour, Miss. Thamine' 'Murphy, Miss. Katherine \"Kate\"'\n",
            " 'Coleridge, Mr. Reginald Charles' 'Maenpaa, Mr. Matti Alexanteri'\n",
            " 'Attalah, Mr. Sleiman' 'Minahan, Dr. William Edward'\n",
            " 'Lindahl, Miss. Agda Thorilda Viktoria' 'Hamalainen, Mrs. William (Anna)'\n",
            " 'Beckwith, Mr. Richard Leonard' 'Carter, Rev. Ernest Courtenay'\n",
            " 'Reed, Mr. James George' 'Strom, Mrs. Wilhelm (Elna Matilda Persson)'\n",
            " 'Stead, Mr. William Thomas' 'Lobb, Mr. William Arthur'\n",
            " 'Rosblom, Mrs. Viktor (Helena Wilhelmina)'\n",
            " 'Touma, Mrs. Darwis (Hanne Youssef Razi)'\n",
            " 'Thorne, Mrs. Gertrude Maybelle' 'Cherry, Miss. Gladys'\n",
            " 'Ward, Miss. Anna' 'Parrish, Mrs. (Lutie Davis)' 'Smith, Mr. Thomas'\n",
            " 'Asplund, Master. Edvin Rojj Felix' 'Taussig, Mr. Emil'\n",
            " 'Harrison, Mr. William' 'Henry, Miss. Delia' 'Reeves, Mr. David'\n",
            " 'Panula, Mr. Ernesti Arvid' 'Persson, Mr. Ernst Ulrik'\n",
            " 'Graham, Mrs. William Thompson (Edith Junkins)' 'Bissette, Miss. Amelia'\n",
            " 'Cairns, Mr. Alexander' 'Tornquist, Mr. William Henry'\n",
            " 'Mellinger, Mrs. (Elizabeth Anne Maidment)' 'Natsch, Mr. Charles H'\n",
            " 'Healy, Miss. Hanora \"Nora\"' 'Andrews, Miss. Kornelia Theodosia'\n",
            " 'Lindblom, Miss. Augusta Charlotta' 'Parkes, Mr. Francis \"Frank\"'\n",
            " 'Rice, Master. Eric' 'Abbott, Mrs. Stanton (Rosa Hunt)'\n",
            " 'Duane, Mr. Frank' 'Olsson, Mr. Nils Johan Goransson'\n",
            " 'de Pelsmaeker, Mr. Alfons' 'Dorking, Mr. Edward Arthur'\n",
            " 'Smith, Mr. Richard William' 'Stankovic, Mr. Ivan'\n",
            " 'de Mulder, Mr. Theodore' 'Naidenoff, Mr. Penko' 'Hosono, Mr. Masabumi'\n",
            " 'Connolly, Miss. Kate' 'Barber, Miss. Ellen \"Nellie\"'\n",
            " 'Bishop, Mrs. Dickinson H (Helen Walton)' 'Levy, Mr. Rene Jacques'\n",
            " 'Haas, Miss. Aloisia' 'Mineff, Mr. Ivan' 'Lewy, Mr. Ervin G'\n",
            " 'Hanna, Mr. Mansour' 'Allison, Miss. Helen Loraine'\n",
            " 'Saalfeld, Mr. Adolphe' 'Baxter, Mrs. James (Helene DeLaudeniere Chaput)'\n",
            " 'Kelly, Miss. Anna Katherine \"Annie Kate\"' 'McCoy, Mr. Bernard'\n",
            " 'Johnson, Mr. William Cahoone Jr' 'Keane, Miss. Nora A'\n",
            " 'Williams, Mr. Howard Hugh \"Harry\"' 'Allison, Master. Hudson Trevor'\n",
            " 'Fleming, Miss. Margaret'\n",
            " 'Penasco y Castellana, Mrs. Victor de Satode (Maria Josefa Perez de Soto y Vallejo)'\n",
            " 'Abelson, Mr. Samuel' 'Francatelli, Miss. Laura Mabel'\n",
            " 'Hays, Miss. Margaret Bechstein' 'Ryerson, Miss. Emily Borie'\n",
            " 'Lahtinen, Mrs. William (Anna Sylfven)' 'Hendekovic, Mr. Ignjac'\n",
            " 'Hart, Mr. Benjamin' 'Nilsson, Miss. Helmina Josefina'\n",
            " 'Kantor, Mrs. Sinai (Miriam Sternin)' 'Moraweck, Dr. Ernest'\n",
            " 'Wick, Miss. Mary Natalie'\n",
            " 'Spedden, Mrs. Frederic Oakley (Margaretta Corning Stone)'\n",
            " 'Dennis, Mr. Samuel' 'Danoff, Mr. Yoto' 'Slayter, Miss. Hilda Mary'\n",
            " 'Caldwell, Mrs. Albert Francis (Sylvia Mae Harbaugh)'\n",
            " 'Sage, Mr. George John Jr' 'Young, Miss. Marie Grice'\n",
            " 'Nysveen, Mr. Johan Hansen' 'Ball, Mrs. (Ada E Hall)'\n",
            " 'Goldsmith, Mrs. Frank John (Emily Alice Brown)'\n",
            " 'Hippach, Miss. Jean Gertrude' 'McCoy, Miss. Agnes' 'Partner, Mr. Austen'\n",
            " 'Graham, Mr. George Edward' 'Vander Planke, Mr. Leo Edmondus'\n",
            " 'Frauenthal, Mrs. Henry William (Clara Heinsheimer)' 'Denkoff, Mr. Mitto'\n",
            " 'Pears, Mr. Thomas Clinton' 'Burns, Miss. Elizabeth Margaret'\n",
            " 'Dahl, Mr. Karl Edwart' 'Blackwell, Mr. Stephen Weart'\n",
            " 'Navratil, Master. Edmond Roger' 'Fortune, Miss. Alice Elizabeth'\n",
            " 'Collander, Mr. Erik Gustaf' 'Sedgwick, Mr. Charles Frederick Waddington'\n",
            " 'Fox, Mr. Stanley Hubert' 'Brown, Miss. Amelia \"Mildred\"'\n",
            " 'Smith, Miss. Marion Elsie' 'Davison, Mrs. Thomas Henry (Mary E Finck)'\n",
            " 'Coutts, Master. William Loch \"William\"' 'Dimic, Mr. Jovan'\n",
            " 'Odahl, Mr. Nils Martin' 'Williams-Lambert, Mr. Fletcher Fellows'\n",
            " 'Elias, Mr. Tannous' 'Arnold-Franchi, Mr. Josef' 'Yousif, Mr. Wazli'\n",
            " 'Vanden Steen, Mr. Leo Peter' 'Bowerman, Miss. Elsie Edith'\n",
            " 'Funk, Miss. Annie Clemmer' 'McGovern, Miss. Mary'\n",
            " 'Mockler, Miss. Helen Mary \"Ellie\"' 'Skoog, Mr. Wilhelm'\n",
            " 'del Carlo, Mr. Sebastiano' 'Barbara, Mrs. (Catherine David)'\n",
            " 'Asim, Mr. Adola' \"O'Brien, Mr. Thomas\" 'Adahl, Mr. Mauritz Nils Martin'\n",
            " 'Warren, Mrs. Frank Manley (Anna Sophia Atkinson)'\n",
            " 'Moussa, Mrs. (Mantoura Boulos)' 'Jermyn, Miss. Annie'\n",
            " 'Aubart, Mme. Leontine Pauline' 'Harder, Mr. George Achilles'\n",
            " 'Wiklund, Mr. Jakob Alfred' 'Beavan, Mr. William Thomas'\n",
            " 'Ringhini, Mr. Sante' 'Palsson, Miss. Stina Viola'\n",
            " 'Meyer, Mrs. Edgar Joseph (Leila Saks)' 'Landergren, Miss. Aurora Adelia'\n",
            " 'Widener, Mr. Harry Elkins' 'Betros, Mr. Tannous'\n",
            " 'Gustafsson, Mr. Karl Gideon' 'Bidois, Miss. Rosalie'\n",
            " 'Nakid, Miss. Maria (\"Mary\")' 'Tikkanen, Mr. Juho'\n",
            " 'Holverson, Mrs. Alexander Oskar (Mary Aline Towner)'\n",
            " 'Plotcharsky, Mr. Vasil' 'Davies, Mr. Charles Henry'\n",
            " 'Goodwin, Master. Sidney Leonard' 'Buss, Miss. Kate'\n",
            " 'Sadlier, Mr. Matthew' 'Lehmann, Miss. Bertha'\n",
            " 'Carter, Mr. William Ernest' 'Jansson, Mr. Carl Olof'\n",
            " 'Gustafsson, Mr. Johan Birger' 'Newell, Miss. Marjorie'\n",
            " 'Sandstrom, Mrs. Hjalmar (Agnes Charlotta Bengtsson)'\n",
            " 'Johansson, Mr. Erik' 'Olsson, Miss. Elina' 'McKane, Mr. Peter David'\n",
            " 'Pain, Dr. Alfred' 'Trout, Mrs. William H (Jessie L)'\n",
            " 'Niskanen, Mr. Juha' 'Adams, Mr. John' 'Jussila, Miss. Mari Aina'\n",
            " 'Hakkarainen, Mr. Pekka Pietari' 'Oreskovic, Miss. Marija'\n",
            " 'Gale, Mr. Shadrach' 'Widegren, Mr. Carl/Charles Peter'\n",
            " 'Richards, Master. William Rowe' 'Birkeland, Mr. Hans Martin Monsen'\n",
            " 'Lefebre, Miss. Ida' 'Sdycoff, Mr. Todor' 'Hart, Mr. Henry'\n",
            " 'Minahan, Miss. Daisy E' 'Cunningham, Mr. Alfred Fleming'\n",
            " 'Sundman, Mr. Johan Julian' 'Meek, Mrs. Thomas (Annie Louise Rowley)'\n",
            " 'Drew, Mrs. James Vivian (Lulu Thorne Christian)'\n",
            " 'Silven, Miss. Lyyli Karoliina' 'Matthews, Mr. William John'\n",
            " 'Van Impe, Miss. Catharina' 'Gheorgheff, Mr. Stanio'\n",
            " 'Charters, Mr. David' 'Zimmerman, Mr. Leo'\n",
            " 'Danbom, Mrs. Ernst Gilbert (Anna Sigrid Maria Brogren)'\n",
            " 'Rosblom, Mr. Viktor Richard' 'Wiseman, Mr. Phillippe'\n",
            " 'Clarke, Mrs. Charles V (Ada Maria Winfield)'\n",
            " 'Phillips, Miss. Kate Florence (\"Mrs Kate Louise Phillips Marshall\")'\n",
            " 'Flynn, Mr. James' 'Pickard, Mr. Berk (Berk Trembisky)'\n",
            " 'Bjornstrom-Steffansson, Mr. Mauritz Hakan'\n",
            " 'Thorneycroft, Mrs. Percival (Florence Kate White)'\n",
            " 'Louch, Mrs. Charles Alexander (Alice Adelaide Slow)'\n",
            " 'Kallio, Mr. Nikolai Erland' 'Silvey, Mr. William Baird'\n",
            " 'Carter, Miss. Lucile Polk' 'Ford, Miss. Doolina Margaret \"Daisy\"'\n",
            " 'Richards, Mrs. Sidney (Emily Hocking)' 'Fortune, Mr. Mark'\n",
            " 'Kvillner, Mr. Johan Henrik Johannesson'\n",
            " 'Hart, Mrs. Benjamin (Esther Ada Bloomfield)' 'Hampe, Mr. Leon'\n",
            " 'Petterson, Mr. Johan Emil' 'Reynaldo, Ms. Encarnacion'\n",
            " 'Johannesen-Bratthammer, Mr. Bernt' 'Dodge, Master. Washington'\n",
            " 'Mellinger, Miss. Madeleine Violet' 'Seward, Mr. Frederic Kimber'\n",
            " 'Baclini, Miss. Marie Catherine' 'Peuchen, Major. Arthur Godfrey'\n",
            " 'West, Mr. Edwy Arthur' 'Hagland, Mr. Ingvald Olai Olsen'\n",
            " 'Foreman, Mr. Benjamin Laventall' 'Goldenberg, Mr. Samuel L'\n",
            " 'Peduzzi, Mr. Joseph' 'Jalsevac, Mr. Ivan' 'Millet, Mr. Francis Davis'\n",
            " 'Kenyon, Mrs. Frederick R (Marion)' 'Toomey, Miss. Ellen'\n",
            " \"O'Connor, Mr. Maurice\" 'Anderson, Mr. Harry' 'Morley, Mr. William'\n",
            " 'Gee, Mr. Arthur H' 'Milling, Mr. Jacob Christian' 'Maisner, Mr. Simon'\n",
            " 'Goncalves, Mr. Manuel Estanslas' 'Campbell, Mr. William'\n",
            " 'Smart, Mr. John Montgomery' 'Scanlan, Mr. James'\n",
            " 'Baclini, Miss. Helene Barbara' 'Keefe, Mr. Arthur' 'Cacic, Mr. Luka'\n",
            " 'West, Mrs. Edwy Arthur (Ada Mary Worth)'\n",
            " 'Jerwan, Mrs. Amin S (Marie Marthe Thuillard)'\n",
            " 'Strandberg, Miss. Ida Sofia' 'Clifford, Mr. George Quincy'\n",
            " 'Renouf, Mr. Peter Henry' 'Braund, Mr. Lewis Richard'\n",
            " 'Karlsson, Mr. Nils August' 'Hirvonen, Miss. Hildur E'\n",
            " 'Goodwin, Master. Harold Victor' 'Frost, Mr. Anthony Wood \"Archie\"'\n",
            " 'Rouse, Mr. Richard Henry' 'Turkula, Mrs. (Hedwig)'\n",
            " 'Bishop, Mr. Dickinson H' 'Lefebre, Miss. Jeannie'\n",
            " 'Hoyt, Mrs. Frederick Maxfield (Jane Anne Forby)'\n",
            " 'Kent, Mr. Edward Austin' 'Somerton, Mr. Francis William'\n",
            " 'Coutts, Master. Eden Leslie \"Neville\"'\n",
            " 'Hagland, Mr. Konrad Mathias Reiersen' 'Windelov, Mr. Einar'\n",
            " 'Molson, Mr. Harry Markland' 'Artagaveytia, Mr. Ramon'\n",
            " 'Stanley, Mr. Edward Roland' 'Yousseff, Mr. Gerious'\n",
            " 'Eustis, Miss. Elizabeth Mussey' 'Shellard, Mr. Frederick William'\n",
            " 'Allison, Mrs. Hudson J C (Bessie Waldo Daniels)' 'Svensson, Mr. Olof'\n",
            " 'Calic, Mr. Petar' 'Canavan, Miss. Mary' \"O'Sullivan, Miss. Bridget Mary\"\n",
            " 'Laitinen, Miss. Kristina Sofia' 'Maioni, Miss. Roberta'\n",
            " 'Penasco y Castellana, Mr. Victor de Satode'\n",
            " 'Quick, Mrs. Frederick Charles (Jane Richards)'\n",
            " 'Bradley, Mr. George (\"George Arthur Brayton\")'\n",
            " 'Olsen, Mr. Henry Margido' 'Lang, Mr. Fang' 'Daly, Mr. Eugene Patrick'\n",
            " 'Webber, Mr. James' 'McGough, Mr. James Robert'\n",
            " 'Rothschild, Mrs. Martin (Elizabeth L. Barrett)' 'Coleff, Mr. Satio'\n",
            " 'Walker, Mr. William Anderson' 'Lemore, Mrs. (Amelia Milley)'\n",
            " 'Ryan, Mr. Patrick'\n",
            " 'Angle, Mrs. William A (Florence \"Mary\" Agnes Hughes)'\n",
            " 'Pavlovic, Mr. Stefo' 'Perreault, Miss. Anne' 'Vovk, Mr. Janko'\n",
            " 'Lahoud, Mr. Sarkis' 'Hippach, Mrs. Louis Albert (Ida Sophia Fischer)'\n",
            " 'Kassem, Mr. Fared' 'Farrell, Mr. James' 'Ridsdale, Miss. Lucy'\n",
            " 'Farthing, Mr. John' 'Salonen, Mr. Johan Werner'\n",
            " 'Hocking, Mr. Richard George' 'Quick, Miss. Phyllis May'\n",
            " 'Toufik, Mr. Nakli' 'Elias, Mr. Joseph Jr'\n",
            " 'Peter, Mrs. Catherine (Catherine Rizk)' 'Cacic, Miss. Marija'\n",
            " 'Hart, Miss. Eva Miriam' 'Butt, Major. Archibald Willingham'\n",
            " 'LeRoy, Miss. Bertha' 'Risien, Mr. Samuel Beard'\n",
            " 'Frolicher, Miss. Hedwig Margaritha' 'Crosby, Miss. Harriet R'\n",
            " 'Andersson, Miss. Ingeborg Constanzia'\n",
            " 'Andersson, Miss. Sigrid Elisabeth' 'Beane, Mr. Edward'\n",
            " 'Douglas, Mr. Walter Donald' 'Nicholson, Mr. Arthur Ernest'\n",
            " 'Beane, Mrs. Edward (Ethel Clarke)' 'Padro y Manent, Mr. Julian'\n",
            " 'Goldsmith, Mr. Frank John' 'Davies, Master. John Morgan Jr'\n",
            " 'Thayer, Mr. John Borland Jr' 'Sharp, Mr. Percival James R'\n",
            " \"O'Brien, Mr. Timothy\" 'Leeni, Mr. Fahim (\"Philip Zenni\")'\n",
            " 'Ohman, Miss. Velin' 'Wright, Mr. George'\n",
            " 'Duff Gordon, Lady. (Lucille Christiana Sutherland) (\"Mrs Morgan\")'\n",
            " 'Robbins, Mr. Victor' 'Taussig, Mrs. Emil (Tillie Mandelbaum)'\n",
            " 'de Messemaeker, Mrs. Guillaume Joseph (Emma)' 'Morrow, Mr. Thomas Rowan'\n",
            " 'Sivic, Mr. Husein' 'Norman, Mr. Robert Douglas' 'Simmons, Mr. John'\n",
            " 'Meanwell, Miss. (Marion Ogden)' 'Davies, Mr. Alfred J'\n",
            " 'Stoytcheff, Mr. Ilia' 'Palsson, Mrs. Nils (Alma Cornelia Berglund)'\n",
            " 'Doharr, Mr. Tannous' 'Jonsson, Mr. Carl' 'Harris, Mr. George'\n",
            " 'Appleton, Mrs. Edward Dale (Charlotte Lamson)'\n",
            " 'Flynn, Mr. John Irwin (\"Irving\")' 'Kelly, Miss. Mary'\n",
            " 'Rush, Mr. Alfred George John' 'Patchett, Mr. George'\n",
            " 'Garside, Miss. Ethel' 'Silvey, Mrs. William Baird (Alice Munger)'\n",
            " 'Caram, Mrs. Joseph (Maria Elias)' 'Jussila, Mr. Eiriik'\n",
            " 'Christy, Miss. Julie Rachel'\n",
            " 'Thayer, Mrs. John Borland (Marian Longstreth Morris)'\n",
            " 'Downton, Mr. William James' 'Ross, Mr. John Hugo' 'Paulner, Mr. Uscher'\n",
            " 'Taussig, Miss. Ruth' 'Jarvis, Mr. John Denzil'\n",
            " 'Frolicher-Stehli, Mr. Maxmillian' 'Gilinski, Mr. Eliezer'\n",
            " 'Murdlin, Mr. Joseph' 'Rintamaki, Mr. Matti'\n",
            " 'Stephenson, Mrs. Walter Bertram (Martha Eustis)'\n",
            " 'Elsbury, Mr. William James' 'Bourke, Miss. Mary'\n",
            " 'Chapman, Mr. John Henry' 'Van Impe, Mr. Jean Baptiste'\n",
            " 'Leitch, Miss. Jessie Wills' 'Johnson, Mr. Alfred' 'Boulos, Mr. Hanna'\n",
            " 'Duff Gordon, Sir. Cosmo Edmund (\"Mr Morgan\")'\n",
            " 'Jacobsohn, Mrs. Sidney Samuel (Amy Frances Christy)'\n",
            " 'Slabenoff, Mr. Petco' 'Harrington, Mr. Charles H'\n",
            " 'Torber, Mr. Ernst William' 'Homer, Mr. Harry (\"Mr E Haven\")'\n",
            " 'Lindell, Mr. Edvard Bengtsson' 'Karaic, Mr. Milan'\n",
            " 'Daniel, Mr. Robert Williams'\n",
            " 'Laroche, Mrs. Joseph (Juliette Marie Louise Lafargue)'\n",
            " 'Shutes, Miss. Elizabeth W'\n",
            " 'Andersson, Mrs. Anders Johan (Alfrida Konstantia Brogren)'\n",
            " 'Jardin, Mr. Jose Neto' 'Murphy, Miss. Margaret Jane' 'Horgan, Mr. John'\n",
            " 'Brocklebank, Mr. William Alfred' 'Herman, Miss. Alice'\n",
            " 'Danbom, Mr. Ernst Gilbert'\n",
            " 'Lobb, Mrs. William Arthur (Cordelia K Stanlick)'\n",
            " 'Becker, Miss. Marion Louise' 'Gavey, Mr. Lawrence' 'Yasbeck, Mr. Antoni'\n",
            " 'Kimball, Mr. Edwin Nelson Jr' 'Nakid, Mr. Sahid'\n",
            " 'Hansen, Mr. Henry Damsgaard' 'Bowen, Mr. David John \"Dai\"'\n",
            " 'Sutton, Mr. Frederick' 'Kirkland, Rev. Charles Leonard'\n",
            " 'Longley, Miss. Gretchen Fiske' 'Bostandyeff, Mr. Guentcho'\n",
            " \"O'Connell, Mr. Patrick D\" 'Barkworth, Mr. Algernon Henry Wilson'\n",
            " 'Lundahl, Mr. Johan Svensson' 'Stahelin-Maeglin, Dr. Max'\n",
            " 'Parr, Mr. William Henry Marsh' 'Skoog, Miss. Mabel' 'Davis, Miss. Mary'\n",
            " 'Leinonen, Mr. Antti Gustaf' 'Collyer, Mr. Harvey'\n",
            " 'Panula, Mrs. Juha (Maria Emilia Ojala)' 'Thorneycroft, Mr. Percival'\n",
            " 'Jensen, Mr. Hans Peder' 'Sagesser, Mlle. Emma'\n",
            " 'Skoog, Miss. Margit Elizabeth' 'Foo, Mr. Choong'\n",
            " 'Baclini, Miss. Eugenie' 'Harper, Mr. Henry Sleeper' 'Cor, Mr. Liudevit'\n",
            " 'Simonius-Blumer, Col. Oberst Alfons' 'Willey, Mr. Edward'\n",
            " 'Stanley, Miss. Amy Zillah Elsie' 'Mitkoff, Mr. Mito'\n",
            " 'Doling, Miss. Elsie' 'Kalvik, Mr. Johannes Halvorsen'\n",
            " 'O\\'Leary, Miss. Hanora \"Norah\"' 'Hegarty, Miss. Hanora \"Nora\"'\n",
            " 'Hickman, Mr. Leonard Mark' 'Radeff, Mr. Alexander'\n",
            " 'Bourke, Mrs. John (Catherine)' 'Eitemiller, Mr. George Floyd'\n",
            " 'Newell, Mr. Arthur Webster' 'Frauenthal, Dr. Henry William'\n",
            " 'Badt, Mr. Mohamed' 'Colley, Mr. Edward Pomeroy' 'Coleff, Mr. Peju'\n",
            " 'Lindqvist, Mr. Eino William' 'Hickman, Mr. Lewis'\n",
            " 'Butler, Mr. Reginald Fenton' 'Rommetvedt, Mr. Knud Paust'\n",
            " 'Cook, Mr. Jacob' 'Taylor, Mrs. Elmer Zebley (Juliet Cummins Wright)'\n",
            " 'Brown, Mrs. Thomas William Solomon (Elizabeth Catherine Ford)'\n",
            " 'Davidson, Mr. Thornton' 'Mitchell, Mr. Henry Michael'\n",
            " 'Wilhelms, Mr. Charles' 'Watson, Mr. Ennis Hastings'\n",
            " 'Edvardsson, Mr. Gustaf Hjalmar' 'Sawyer, Mr. Frederick Charles'\n",
            " 'Turja, Miss. Anna Sofia' 'Goodwin, Mrs. Frederick (Augusta Tyler)'\n",
            " 'Cardeza, Mr. Thomas Drake Martinez' 'Peters, Miss. Katie'\n",
            " 'Hassab, Mr. Hammad' 'Olsvigen, Mr. Thor Anderson'\n",
            " 'Goodwin, Mr. Charles Edward' 'Brown, Mr. Thomas William Solomon'\n",
            " 'Laroche, Mr. Joseph Philippe Lemercier' 'Panula, Mr. Jaako Arnold'\n",
            " 'Dakic, Mr. Branko' 'Fischer, Mr. Eberhard Thelander'\n",
            " 'Madill, Miss. Georgette Alexandra' 'Dick, Mr. Albert Adrian'\n",
            " 'Karun, Miss. Manca' 'Lam, Mr. Ali' 'Saad, Mr. Khalil' 'Weir, Col. John'\n",
            " 'Chapman, Mr. Charles Henry' 'Kelly, Mr. James'\n",
            " 'Mullens, Miss. Katherine \"Katie\"' 'Thayer, Mr. John Borland'\n",
            " 'Humblen, Mr. Adolf Mathias Nicolai Olsen'\n",
            " 'Astor, Mrs. John Jacob (Madeleine Talmadge Force)'\n",
            " 'Silverthorne, Mr. Spencer Victor' 'Barbara, Miss. Saiide'\n",
            " 'Gallagher, Mr. Martin' 'Hansen, Mr. Henrik Juul'\n",
            " 'Morley, Mr. Henry Samuel (\"Mr Henry Marshall\")'\n",
            " 'Kelly, Mrs. Florence \"Fannie\"' 'Calderhead, Mr. Edward Pennington'\n",
            " 'Cleaver, Miss. Alice'\n",
            " 'Moubarek, Master. Halim Gonios (\"William George\")'\n",
            " 'Mayne, Mlle. Berthe Antonine (\"Mrs de Villiers\")' 'Klaber, Mr. Herman'\n",
            " 'Taylor, Mr. Elmer Zebley' 'Larsson, Mr. August Viktor'\n",
            " 'Greenberg, Mr. Samuel' 'Soholt, Mr. Peter Andreas Lauritz Andersen'\n",
            " 'Endres, Miss. Caroline Louise' 'Troutt, Miss. Edwina Celia \"Winnie\"'\n",
            " 'McEvoy, Mr. Michael' 'Johnson, Mr. Malkolm Joackim'\n",
            " 'Harper, Miss. Annie Jessie \"Nina\"' 'Jensen, Mr. Svend Lauritz'\n",
            " 'Gillespie, Mr. William Henry' 'Hodges, Mr. Henry Price'\n",
            " 'Chambers, Mr. Norman Campbell' 'Oreskovic, Mr. Luka'\n",
            " 'Renouf, Mrs. Peter Henry (Lillian Jefferys)' 'Mannion, Miss. Margareth'\n",
            " 'Bryhl, Mr. Kurt Arnold Gottfrid' 'Ilmakangas, Miss. Pieta Sofia'\n",
            " 'Allen, Miss. Elisabeth Walton' 'Hassan, Mr. Houssein G N'\n",
            " 'Knight, Mr. Robert J' 'Berriman, Mr. William John'\n",
            " 'Troupiansky, Mr. Moses Aaron' 'Williams, Mr. Leslie'\n",
            " 'Ford, Mrs. Edward (Margaret Ann Watson)' 'Lesurer, Mr. Gustave J'\n",
            " 'Ivanoff, Mr. Kanio' 'Nankoff, Mr. Minko' 'Hawksford, Mr. Walter James'\n",
            " 'Cavendish, Mr. Tyrell William' 'Ryerson, Miss. Susan Parker \"Suzette\"'\n",
            " 'McNamee, Mr. Neal' 'Stranden, Mr. Juho' 'Crosby, Capt. Edward Gifford'\n",
            " 'Abbott, Mr. Rossmore Edward' 'Sinkkonen, Miss. Anna'\n",
            " 'Marvin, Mr. Daniel Warner' 'Connaghton, Mr. Michael' 'Wells, Miss. Joan'\n",
            " 'Moor, Master. Meier' 'Vande Velde, Mr. Johannes Joseph'\n",
            " 'Jonkoff, Mr. Lalio' 'Herman, Mrs. Samuel (Jane Laver)'\n",
            " 'Hamalainen, Master. Viljo' 'Carlsson, Mr. August Sigfrid'\n",
            " 'Bailey, Mr. Percy Andrew' 'Theobald, Mr. Thomas Leonard'\n",
            " 'Rothes, the Countess. of (Lucy Noel Martha Dyer-Edwards)'\n",
            " 'Garfirth, Mr. John' 'Nirva, Mr. Iisakki Antino Aijo'\n",
            " 'Barah, Mr. Hanna Assi' 'Carter, Mrs. William Ernest (Lucile Polk)'\n",
            " 'Eklund, Mr. Hans Linus' 'Hogeboom, Mrs. John C (Anna Andrews)'\n",
            " 'Brewe, Dr. Arthur Jackson' 'Mangan, Miss. Mary' 'Moran, Mr. Daniel J'\n",
            " 'Gronnestad, Mr. Daniel Danielsen' 'Lievens, Mr. Rene Aime'\n",
            " 'Jensen, Mr. Niels Peder' 'Mack, Mrs. (Mary)' 'Elias, Mr. Dibo'\n",
            " 'Hocking, Mrs. Elizabeth (Eliza Needs)'\n",
            " 'Myhrman, Mr. Pehr Fabian Oliver Malkolm' 'Tobin, Mr. Roger'\n",
            " 'Emanuel, Miss. Virginia Ethel' 'Kilgannon, Mr. Thomas J'\n",
            " 'Robert, Mrs. Edward Scott (Elisabeth Walton McMillan)'\n",
            " 'Ayoub, Miss. Banoura' 'Dick, Mrs. Albert Adrian (Vera Gillespie)'\n",
            " 'Long, Mr. Milton Clyde' 'Johnston, Mr. Andrew G' 'Ali, Mr. William'\n",
            " 'Harmer, Mr. Abraham (David Lishin)' 'Sjoblom, Miss. Anna Sofia'\n",
            " 'Rice, Master. George Hugh' 'Dean, Master. Bertram Vere'\n",
            " 'Guggenheim, Mr. Benjamin' 'Keane, Mr. Andrew \"Andy\"'\n",
            " 'Gaskell, Mr. Alfred' 'Sage, Miss. Stella Anna'\n",
            " 'Hoyt, Mr. William Fisher' 'Dantcheff, Mr. Ristiu' 'Otter, Mr. Richard'\n",
            " 'Leader, Dr. Alice (Farnham)' 'Osman, Mrs. Mara'\n",
            " 'Ibrahim Shawah, Mr. Yousseff'\n",
            " 'Van Impe, Mrs. Jean Baptiste (Rosalie Paula Govaert)'\n",
            " 'Ponesell, Mr. Martin' 'Collyer, Mrs. Harvey (Charlotte Annie Tate)'\n",
            " 'Carter, Master. William Thornton II' 'Thomas, Master. Assad Alexander'\n",
            " 'Hedman, Mr. Oskar Arvid' 'Johansson, Mr. Karl Johan'\n",
            " 'Andrews, Mr. Thomas Jr' 'Pettersson, Miss. Ellen Natalia'\n",
            " 'Meyer, Mr. August' 'Chambers, Mrs. Norman Campbell (Bertha Griggs)'\n",
            " 'Alexander, Mr. William' 'Lester, Mr. James' 'Slemen, Mr. Richard James'\n",
            " 'Andersson, Miss. Ebba Iris Alfrida' 'Tomlin, Mr. Ernest Portage'\n",
            " 'Fry, Mr. Richard' 'Heininen, Miss. Wendla Maria' 'Mallet, Mr. Albert'\n",
            " 'Holm, Mr. John Fredrik Alexander' 'Skoog, Master. Karl Thorsten'\n",
            " 'Hays, Mrs. Charles Melville (Clara Jennings Gregg)' 'Lulic, Mr. Nikola'\n",
            " 'Reuchlin, Jonkheer. John George' 'Moor, Mrs. (Beila)'\n",
            " 'Panula, Master. Urho Abraham' 'Flynn, Mr. John' 'Lam, Mr. Len'\n",
            " 'Mallet, Master. Andre' 'McCormack, Mr. Thomas Joseph'\n",
            " 'Stone, Mrs. George Nelson (Martha Evelyn)'\n",
            " 'Yasbeck, Mrs. Antoni (Selini Alexander)'\n",
            " 'Richards, Master. George Sibley' 'Saad, Mr. Amin'\n",
            " 'Augustsson, Mr. Albert' 'Allum, Mr. Owen George'\n",
            " 'Compton, Miss. Sara Rebecca' 'Pasic, Mr. Jakob' 'Sirota, Mr. Maurice'\n",
            " 'Chip, Mr. Chang' 'Marechal, Mr. Pierre' 'Alhomaki, Mr. Ilmari Rudolf'\n",
            " 'Mudd, Mr. Thomas Charles' 'Serepeca, Miss. Augusta'\n",
            " 'Lemberopolous, Mr. Peter L' 'Culumovic, Mr. Jeso' 'Abbing, Mr. Anthony'\n",
            " 'Sage, Mr. Douglas Bullen' 'Markoff, Mr. Marin' 'Harper, Rev. John'\n",
            " 'Goldenberg, Mrs. Samuel L (Edwiga Grabowska)'\n",
            " 'Andersson, Master. Sigvard Harald Elias' 'Svensson, Mr. Johan'\n",
            " 'Boulos, Miss. Nourelain' 'Lines, Miss. Mary Conover'\n",
            " 'Carter, Mrs. Ernest Courtenay (Lilian Hughes)'\n",
            " 'Aks, Mrs. Sam (Leah Rosen)' 'Wick, Mrs. George Dennick (Mary Hitchcock)'\n",
            " 'Daly, Mr. Peter Denis ' 'Baclini, Mrs. Solomon (Latifa Qurban)'\n",
            " 'Razi, Mr. Raihed' 'Hansen, Mr. Claus Peter'\n",
            " 'Giles, Mr. Frederick Edward'\n",
            " 'Swift, Mrs. Frederick Joel (Margaret Welles Barron)'\n",
            " 'Sage, Miss. Dorothy Edith \"Dolly\"' 'Gill, Mr. John William'\n",
            " 'Bystrom, Mrs. (Karolina)' 'Duran y More, Miss. Asuncion'\n",
            " 'Roebling, Mr. Washington Augustus II' 'van Melkebeke, Mr. Philemon'\n",
            " 'Johnson, Master. Harold Theodor' 'Balkic, Mr. Cerin'\n",
            " 'Beckwith, Mrs. Richard Leonard (Sallie Monypeny)'\n",
            " 'Carlsson, Mr. Frans Olof' 'Vander Cruyssen, Mr. Victor'\n",
            " 'Abelson, Mrs. Samuel (Hannah Wizosky)'\n",
            " 'Najib, Miss. Adele Kiamie \"Jane\"' 'Gustafsson, Mr. Alfred Ossian'\n",
            " 'Petroff, Mr. Nedelio' 'Laleff, Mr. Kristo'\n",
            " 'Potter, Mrs. Thomas Jr (Lily Alexenia Wilson)'\n",
            " 'Shelley, Mrs. William (Imanita Parrish Hall)' 'Markun, Mr. Johann'\n",
            " 'Dahlberg, Miss. Gerda Ulrika' 'Banfield, Mr. Frederick James'\n",
            " 'Sutehall, Mr. Henry Jr' 'Rice, Mrs. William (Margaret Norton)'\n",
            " 'Montvila, Rev. Juozas' 'Graham, Miss. Margaret Edith'\n",
            " 'Johnston, Miss. Catherine Helen \"Carrie\"' 'Behr, Mr. Karl Howell'\n",
            " 'Dooley, Mr. Patrick']\n",
            "\n",
            "\n",
            "Column: Sex \n",
            "\n",
            "['male' 'female']\n",
            "\n",
            "\n",
            "Column: Age \n",
            "\n",
            "[22.   38.   26.   35.   25.   54.    2.   27.   14.    4.   58.   20.\n",
            " 39.   55.   30.   31.   21.5  34.   15.   28.    8.   19.   40.   66.\n",
            " 42.   21.   18.    3.    7.   49.   29.   65.   28.5   5.   11.   45.\n",
            " 17.   32.   16.    0.83 33.   23.   24.   46.   59.   71.   37.   47.\n",
            " 14.5  70.5  32.5  12.    9.   36.5  51.   55.5  40.5  44.    1.   61.\n",
            " 56.   50.   36.   45.5  20.5  62.   41.   52.   63.   23.5   0.92 43.\n",
            " 60.   10.   64.   13.   48.    0.75 53.   57.   80.   70.   24.5   6.\n",
            "  0.67 30.5   0.42 34.5  74.  ]\n",
            "\n",
            "\n",
            "Column: SibSp \n",
            "\n",
            "[1 0 3 4 2 5 8]\n",
            "\n",
            "\n",
            "Column: Parch \n",
            "\n",
            "[0 1 2 5 3 4 6]\n",
            "\n",
            "\n",
            "Column: Ticket \n",
            "\n",
            "['A/5 21171' 'PC 17599' 'STON/O2. 3101282' '113803' '373450' '330877'\n",
            " '17463' '349909' '347742' '237736' 'PP 9549' '113783' 'A/5. 2151'\n",
            " '347082' '350406' '248706' '382652' '244373' '345763' '2649' '239865'\n",
            " '248698' '330923' '113788' '347077' '2631' '19950' '330959' '349216'\n",
            " 'PC 17601' 'PC 17569' '335677' 'C.A. 24579' 'PC 17604' '113789' '2677'\n",
            " 'A./5. 2152' '345764' '2651' '7546' '11668' '349253' 'SC/Paris 2123'\n",
            " '330958' 'S.C./A.4. 23567' '370371' '14311' '2662' '349237' '3101295'\n",
            " 'A/4. 39886' 'PC 17572' '2926' '113509' '19947' 'C.A. 31026' '2697'\n",
            " 'C.A. 34651' 'CA 2144' '2669' '113572' '36973' '347088' 'PC 17605' '2661'\n",
            " 'C.A. 29395' 'S.P. 3464' '3101281' '315151' 'C.A. 33111' 'S.O.C. 14879'\n",
            " '2680' '1601' '348123' '349208' '374746' '248738' '364516' '345767'\n",
            " '345779' '330932' '113059' 'SO/C 14885' '3101278' 'W./C. 6608'\n",
            " 'SOTON/OQ 392086' '343275' '343276' '347466' 'W.E.P. 5734' 'C.A. 2315'\n",
            " '364500' '374910' 'PC 17754' 'PC 17759' '231919' '244367' '349245'\n",
            " '349215' '35281' '7540' '3101276' '349207' '343120' '312991' '349249'\n",
            " '371110' '110465' '2665' '324669' '4136' '2627' 'STON/O 2. 3101294'\n",
            " '370369' 'PC 17558' 'A4. 54510' '27267' '370372' 'C 17369' '2668'\n",
            " '347061' '349241' 'SOTON/O.Q. 3101307' 'A/5. 3337' '228414' 'C.A. 29178'\n",
            " 'SC/PARIS 2133' '11752' '7534' 'PC 17593' '2678' '347081'\n",
            " 'STON/O2. 3101279' '365222' '231945' 'C.A. 33112' '350043' '230080'\n",
            " '244310' 'S.O.P. 1166' '113776' 'A.5. 11206' 'A/5. 851' 'Fa 265302'\n",
            " 'PC 17597' '35851' 'SOTON/OQ 392090' '315037' 'CA. 2343' '371362'\n",
            " 'C.A. 33595' '347068' '315093' '363291' '113505' 'PC 17318' '111240'\n",
            " 'STON/O 2. 3101280' '17764' '350404' '4133' 'PC 17595' '250653' 'LINE'\n",
            " 'SC/PARIS 2131' '230136' '315153' '113767' '370365' '111428' '364849'\n",
            " '349247' '234604' '28424' '350046' 'PC 17610' '368703' '4579' '370370'\n",
            " '248747' '345770' '3101264' '2628' 'A/5 3540' '347054' '2699' '367231'\n",
            " '112277' 'SOTON/O.Q. 3101311' 'F.C.C. 13528' 'A/5 21174' '250646'\n",
            " '367229' '35273' 'STON/O2. 3101283' '243847' '11813' 'W/C 14208'\n",
            " 'SOTON/OQ 392089' '220367' '21440' '349234' '19943' 'PP 4348' 'SW/PP 751'\n",
            " 'A/5 21173' '236171' '347067' '237442' 'C.A. 29566' 'W./C. 6609' '26707'\n",
            " 'C.A. 31921' '28665' 'SCO/W 1585' '367230' 'W./C. 14263'\n",
            " 'STON/O 2. 3101275' '2694' '19928' '347071' '250649' '11751' '244252'\n",
            " '362316' '113514' 'A/5. 3336' '370129' '2650' 'PC 17585' '110152'\n",
            " 'PC 17755' '230433' '384461' '110413' '112059' '382649' 'C.A. 17248'\n",
            " '347083' 'PC 17582' 'PC 17760' '113798' '250644' 'PC 17596' '370375'\n",
            " '13502' '347073' '239853' 'C.A. 2673' '336439' '347464' '345778'\n",
            " 'A/5. 10482' '113056' '349239' '345774' '349206' '237798' '370373'\n",
            " '19877' '11967' 'SC/Paris 2163' '349236' '349233' 'PC 17612' '2693'\n",
            " '113781' '19988' '9234' '367226' '226593' 'A/5 2466' '17421' 'PC 17758'\n",
            " 'P/PP 3381' 'PC 17485' '11767' 'PC 17608' '250651' '349243'\n",
            " 'F.C.C. 13529' '347470' '29011' '36928' '16966' 'A/5 21172' '349219'\n",
            " '234818' '345364' '28551' '111361' '113043' 'PC 17611' '349225' '7598'\n",
            " '113784' '248740' '244361' '229236' '248733' '31418' '386525'\n",
            " 'C.A. 37671' '315088' '7267' '113510' '2695' '2647' '345783' '237671'\n",
            " '330931' '330980' 'SC/PARIS 2167' '2691' 'SOTON/O.Q. 3101310' 'C 7076'\n",
            " '110813' '2626' '14313' 'PC 17477' '11765' '3101267' '323951' 'C 7077'\n",
            " '113503' '2648' '347069' 'PC 17757' '2653' 'STON/O 2. 3101293' '349227'\n",
            " '27849' '367655' 'SC 1748' '113760' '350034' '3101277' '350052' '350407'\n",
            " '28403' '244278' '240929' 'STON/O 2. 3101289' '341826' '4137' '315096'\n",
            " '28664' '347064' '29106' '312992' '349222' '394140' 'STON/O 2. 3101269'\n",
            " '343095' '28220' '250652' '28228' '345773' '349254' 'A/5. 13032' '315082'\n",
            " '347080' 'A/4. 34244' '2003' '250655' '364851' 'SOTON/O.Q. 392078'\n",
            " '110564' '376564' 'SC/AH 3085' 'STON/O 2. 3101274' '13507' 'C.A. 18723'\n",
            " '345769' '347076' '230434' '65306' '33638' '113794' '2666' '113786'\n",
            " '65303' '113051' '17453' 'A/5 2817' '349240' '13509' '17464'\n",
            " 'F.C.C. 13531' '371060' '19952' '364506' '111320' '234360' 'A/S 2816'\n",
            " 'SOTON/O.Q. 3101306' '113792' '36209' '323592' '315089' 'SC/AH Basle 541'\n",
            " '7553' '31027' '3460' '350060' '3101298' '239854' 'A/5 3594' '4134'\n",
            " '11771' 'A.5. 18509' '65304' 'SOTON/OQ 3101317' '113787' 'PC 17609'\n",
            " 'A/4 45380' '36947' 'C.A. 6212' '350035' '315086' '364846' '330909'\n",
            " '4135' '26360' '111427' 'C 4001' '382651' 'SOTON/OQ 3101316' 'PC 17473'\n",
            " 'PC 17603' '349209' '36967' 'C.A. 34260' '226875' '349242' '12749'\n",
            " '349252' '2624' '2700' '367232' 'W./C. 14258' 'PC 17483' '3101296'\n",
            " '29104' '2641' '2690' '315084' '113050' 'PC 17761' '364498' '13568'\n",
            " 'WE/P 5735' '2908' '693' 'SC/PARIS 2146' '244358' '330979' '2620'\n",
            " '347085' '113807' '11755' '345572' '372622' '349251' '218629'\n",
            " 'SOTON/OQ 392082' 'SOTON/O.Q. 392087' 'A/4 48871' '349205' '2686'\n",
            " '350417' 'S.W./PP 752' '11769' 'PC 17474' '14312' 'A/4. 20589' '358585'\n",
            " '243880' '2689' 'STON/O 2. 3101286' '237789' '13049' '3411' '237565'\n",
            " '13567' '14973' 'A./5. 3235' 'STON/O 2. 3101273' 'A/5 3902' '364848'\n",
            " 'SC/AH 29037' '248727' '2664' '349214' '113796' '364511' '111426'\n",
            " '349910' '349246' '113804' 'SOTON/O.Q. 3101305' '370377' '364512'\n",
            " '220845' '31028' '2659' '11753' '350029' '54636' '36963' '219533'\n",
            " '349224' '334912' '27042' '347743' '13214' '112052' '237668'\n",
            " 'STON/O 2. 3101292' '350050' '349231' '13213' 'S.O./P.P. 751' 'CA. 2314'\n",
            " '349221' '8475' '330919' '365226' '349223' '29751' '2623' '5727' '349210'\n",
            " 'STON/O 2. 3101285' '234686' '312993' 'A/5 3536' '19996' '29750'\n",
            " 'F.C. 12750' 'C.A. 24580' '244270' '239856' '349912' '342826' '4138'\n",
            " '330935' '6563' '349228' '350036' '24160' '17474' '349256' '2672'\n",
            " '113800' '248731' '363592' '35852' '348121' 'PC 17475' '36864' '350025'\n",
            " '223596' 'PC 17476' 'PC 17482' '113028' '7545' '250647' '348124' '34218'\n",
            " '36568' '347062' '350048' '12233' '250643' '113806' '315094' '36866'\n",
            " '236853' 'STON/O2. 3101271' '239855' '28425' '233639' '349201' '349218'\n",
            " '16988' '376566' 'STON/O 2. 3101288' '250648' '113773' '335097' '29103'\n",
            " '392096' '345780' '349204' '350042' '29108' '363294' 'SOTON/O2 3101272'\n",
            " '2663' '347074' '112379' '364850' '8471' '345781' '350047' 'S.O./P.P. 3'\n",
            " '2674' '29105' '347078' '383121' '36865' '2687' '113501' 'W./C. 6607'\n",
            " 'SOTON/O.Q. 3101312' '374887' '3101265' '12460' 'PC 17600' '349203'\n",
            " '28213' '17465' '349244' '2685' '2625' '347089' '347063' '112050'\n",
            " '347087' '248723' '3474' '28206' '364499' '112058' 'STON/O2. 3101290'\n",
            " 'S.C./PARIS 2079' 'C 7075' '315098' '19972' '368323' '367228' '2671'\n",
            " '347468' '2223' 'PC 17756' '315097' '392092' '11774' 'SOTON/O2 3101287'\n",
            " '2683' '315090' 'C.A. 5547' '349213' '347060' 'PC 17592' '392091'\n",
            " '113055' '2629' '350026' '28134' '17466' '233866' '236852'\n",
            " 'SC/PARIS 2149' 'PC 17590' '345777' '349248' '695' '345765' '2667'\n",
            " '349212' '349217' '349257' '7552' 'C.A./SOTON 34068' 'SOTON/OQ 392076'\n",
            " '211536' '112053' '111369' '370376']\n",
            "\n",
            "\n",
            "Column: Fare \n",
            "\n",
            "[  7.25    71.2833   7.925   53.1      8.05     8.4583  51.8625  21.075\n",
            "  11.1333  30.0708  16.7     26.55    31.275    7.8542  16.      29.125\n",
            "  13.      18.       7.225   26.       8.0292  35.5     31.3875 263.\n",
            "   7.8792   7.8958  27.7208 146.5208   7.75    10.5     82.1708  52.\n",
            "   7.2292  11.2417   9.475   21.      41.5792  15.5     21.6792  17.8\n",
            "  39.6875   7.8     76.7292  61.9792  27.75    46.9     80.      83.475\n",
            "  27.9     15.2458   8.1583   8.6625  73.5     14.4542  56.4958   7.65\n",
            "  29.      12.475    9.       9.5      7.7875  47.1     15.85    34.375\n",
            "  61.175   20.575   34.6542  63.3583  23.      77.2875   8.6542   7.775\n",
            "  24.15     9.825   14.4583 247.5208   7.1417  22.3583   6.975    7.05\n",
            "  14.5     15.0458  26.2833   9.2167  79.2      6.75    11.5     36.75\n",
            "   7.7958  12.525   66.6      7.3125  61.3792   7.7333  69.55    16.1\n",
            "  15.75    20.525   55.      25.925   33.5     30.6958  25.4667  28.7125\n",
            "   0.      15.05    39.      22.025   50.       8.4042   6.4958  10.4625\n",
            "  18.7875  31.     113.275   27.      76.2917  90.       9.35    13.5\n",
            "   7.55    26.25    12.275    7.125   52.5542  20.2125  86.5    512.3292\n",
            "  79.65   153.4625 135.6333  19.5     29.7     77.9583  20.25    78.85\n",
            "  91.0792  12.875    8.85   151.55    30.5     23.25    12.35   110.8833\n",
            " 108.9     24.      56.9292  83.1583 262.375   14.     164.8667 134.5\n",
            "   6.2375  57.9792  28.5    133.65    15.9      9.225   35.      75.25\n",
            "  69.3     55.4417 211.5      4.0125 227.525   15.7417   7.7292  12.\n",
            " 120.      12.65    18.75     6.8583  32.5      7.875   14.4     55.9\n",
            "   8.1125  81.8583  19.2583  19.9667  89.1042  38.5      7.725   13.7917\n",
            "   9.8375   7.0458   7.5208  12.2875   9.5875  49.5042  78.2667  15.1\n",
            "   7.6292  22.525   26.2875  59.4      7.4958  34.0208  93.5    221.7792\n",
            " 106.425   49.5     71.      13.8625   7.8292  39.6     17.4     51.4792\n",
            "  26.3875  30.      40.125    8.7125  15.      33.      42.4     15.55\n",
            "  65.      32.3208   7.0542   8.4333  25.5875   9.8417   8.1375  10.1708\n",
            " 211.3375  57.      13.4167   7.7417   9.4833   7.7375   8.3625  23.45\n",
            "  25.9292   8.6833   8.5167   7.8875  37.0042   6.45     6.95     8.3\n",
            "   6.4375  39.4     14.1083  13.8583  50.4958   5.       9.8458  10.5167]\n",
            "\n",
            "\n",
            "Column: Cabin \n",
            "\n",
            "[nan 'C85' 'C123' 'E46' 'G6' 'C103' 'D56' 'A6' 'C23 C25 C27' 'B78' 'D33'\n",
            " 'B30' 'C52' 'B28' 'C83' 'F33' 'F G73' 'E31' 'A5' 'D10 D12' 'D26' 'C110'\n",
            " 'B58 B60' 'E101' 'F E69' 'D47' 'B86' 'F2' 'C2' 'E33' 'B19' 'A7' 'C49'\n",
            " 'F4' 'A32' 'B4' 'B80' 'A31' 'D36' 'D15' 'C93' 'C78' 'D35' 'C87' 'B77'\n",
            " 'E67' 'B94' 'C125' 'C99' 'C118' 'D7' 'A19' 'B49' 'D' 'C22 C26' 'C106'\n",
            " 'C65' 'E36' 'C54' 'B57 B59 B63 B66' 'C7' 'E34' 'C32' 'B18' 'C124' 'C91'\n",
            " 'E40' 'T' 'C128' 'D37' 'B35' 'E50' 'C82' 'B96 B98' 'E10' 'E44' 'A34'\n",
            " 'C104' 'C111' 'C92' 'E38' 'D21' 'E12' 'E63' 'A14' 'B37' 'C30' 'D20' 'B79'\n",
            " 'E25' 'D46' 'B73' 'C95' 'B38' 'B39' 'B22' 'C86' 'C70' 'A16' 'C101' 'C68'\n",
            " 'A10' 'E68' 'B41' 'A20' 'D19' 'D50' 'D9' 'A23' 'B50' 'A26' 'D48' 'E58'\n",
            " 'C126' 'B71' 'B51 B53 B55' 'D49' 'B5' 'B20' 'F G63' 'C62 C64' 'E24' 'C90'\n",
            " 'C45' 'E8' 'B101' 'D45' 'C46' 'D30' 'E121' 'D11' 'E77' 'F38' 'B3' 'D6'\n",
            " 'B82 B84' 'D17' 'A36' 'B102' 'B69' 'E49' 'C47' 'D28' 'E17' 'A24' 'C50'\n",
            " 'B42' 'C148']\n",
            "\n",
            "\n",
            "Column: Embarked \n",
            "\n",
            "['S' 'C' 'Q']\n",
            "\n",
            "\n",
            "Column: FamilySize \n",
            "\n",
            "[ 1  0  4  2  6  5  3  7 10]\n",
            "\n",
            "\n"
          ]
        }
      ]
    },
    {
      "cell_type": "markdown",
      "metadata": {
        "id": "vlsh9KLgQRFC"
      },
      "source": [
        "lets check for outliers"
      ]
    },
    {
      "cell_type": "code",
      "metadata": {
        "id": "4aHxxwkkQrTi"
      },
      "source": [
        "import matplotlib.pyplot as plt\n",
        "import seaborn as sns"
      ],
      "execution_count": 354,
      "outputs": []
    },
    {
      "cell_type": "code",
      "metadata": {
        "colab": {
          "base_uri": "https://localhost:8080/"
        },
        "id": "UcamDXdcUL6T",
        "outputId": "bacfbda2-9d82-44d1-91d5-1b2725f77d4a"
      },
      "source": [
        "df1_train.columns"
      ],
      "execution_count": 355,
      "outputs": [
        {
          "output_type": "execute_result",
          "data": {
            "text/plain": [
              "Index(['PassengerId', 'Survived', 'Pclass', 'Name', 'Sex', 'Age', 'SibSp',\n",
              "       'Parch', 'Ticket', 'Fare', 'Cabin', 'Embarked', 'FamilySize'],\n",
              "      dtype='object')"
            ]
          },
          "metadata": {},
          "execution_count": 355
        }
      ]
    },
    {
      "cell_type": "code",
      "metadata": {
        "colab": {
          "base_uri": "https://localhost:8080/",
          "height": 1000
        },
        "id": "cC6qkHaBUYAS",
        "outputId": "675e4d51-5a55-40d8-8d7d-4338d84c8b4b"
      },
      "source": [
        "fig, axes = plt.subplots(nrows = 2, ncols = 2, figsize = (20, 20))\n",
        "# label the title\n",
        "fig.suptitle('Box plots for Dataset features', y= 1, color = 'black', fontsize = 15)\n",
        "sns.set(style = 'whitegrid', context = 'notebook')\n",
        "\n",
        "# Use a for loop to iterate through our num list\n",
        "num=[\"Age\",'SibSp','Parch', 'Fare']\n",
        "\n",
        "for ax, data, name in zip(axes.flatten(), df1_train, num):\n",
        "  sns.boxplot(df1_train[name], ax = ax)\n",
        "  ax.set_title('Box plot for '+ name)  \n",
        "plt.show()"
      ],
      "execution_count": 356,
      "outputs": [
        {
          "output_type": "stream",
          "name": "stderr",
          "text": [
            "/usr/local/lib/python3.7/dist-packages/seaborn/_decorators.py:43: FutureWarning: Pass the following variable as a keyword arg: x. From version 0.12, the only valid positional argument will be `data`, and passing other arguments without an explicit keyword will result in an error or misinterpretation.\n",
            "  FutureWarning\n",
            "/usr/local/lib/python3.7/dist-packages/seaborn/_decorators.py:43: FutureWarning: Pass the following variable as a keyword arg: x. From version 0.12, the only valid positional argument will be `data`, and passing other arguments without an explicit keyword will result in an error or misinterpretation.\n",
            "  FutureWarning\n",
            "/usr/local/lib/python3.7/dist-packages/seaborn/_decorators.py:43: FutureWarning: Pass the following variable as a keyword arg: x. From version 0.12, the only valid positional argument will be `data`, and passing other arguments without an explicit keyword will result in an error or misinterpretation.\n",
            "  FutureWarning\n",
            "/usr/local/lib/python3.7/dist-packages/seaborn/_decorators.py:43: FutureWarning: Pass the following variable as a keyword arg: x. From version 0.12, the only valid positional argument will be `data`, and passing other arguments without an explicit keyword will result in an error or misinterpretation.\n",
            "  FutureWarning\n"
          ]
        },
        {
          "output_type": "display_data",
          "data": {
            "image/png": "[encoded data removed]",
            "text/plain": [
              "<Figure size 1440x1440 with 4 Axes>"
            ]
          },
          "metadata": {}
        }
      ]
    },
    {
      "cell_type": "code",
      "metadata": {
        "id": "nIIzH2ycUsQI"
      },
      "source": [
        ""
      ],
      "execution_count": 356,
      "outputs": []
    },
    {
      "cell_type": "markdown",
      "metadata": {
        "id": "O_kG9Vrom3wT"
      },
      "source": [
        "### CHECKING, READING AND CLEANING TEST SET"
      ]
    },
    {
      "cell_type": "code",
      "metadata": {
        "colab": {
          "base_uri": "https://localhost:8080/",
          "height": 200
        },
        "id": "hWGYqzpKpW0_",
        "outputId": "e463fe15-8515-4484-d48d-e62f1d63e03d"
      },
      "source": [
        "df1_test.head()"
      ],
      "execution_count": 357,
      "outputs": [
        {
          "output_type": "execute_result",
          "data": {
            "text/html": [
              "<div>\n",
              "<style scoped>\n",
              "    .dataframe tbody tr th:only-of-type {\n",
              "        vertical-align: middle;\n",
              "    }\n",
              "\n",
              "    .dataframe tbody tr th {\n",
              "        vertical-align: top;\n",
              "    }\n",
              "\n",
              "    .dataframe thead th {\n",
              "        text-align: right;\n",
              "    }\n",
              "</style>\n",
              "<table border=\"1\" class=\"dataframe\">\n",
              "  <thead>\n",
              "    <tr style=\"text-align: right;\">\n",
              "      <th></th>\n",
              "      <th>PassengerId</th>\n",
              "      <th>Pclass</th>\n",
              "      <th>Name</th>\n",
              "      <th>Sex</th>\n",
              "      <th>Age</th>\n",
              "      <th>SibSp</th>\n",
              "      <th>Parch</th>\n",
              "      <th>Ticket</th>\n",
              "      <th>Fare</th>\n",
              "      <th>Cabin</th>\n",
              "      <th>Embarked</th>\n",
              "    </tr>\n",
              "  </thead>\n",
              "  <tbody>\n",
              "    <tr>\n",
              "      <th>0</th>\n",
              "      <td>892</td>\n",
              "      <td>3</td>\n",
              "      <td>Kelly, Mr. James</td>\n",
              "      <td>male</td>\n",
              "      <td>34.5</td>\n",
              "      <td>0</td>\n",
              "      <td>0</td>\n",
              "      <td>330911</td>\n",
              "      <td>7.8292</td>\n",
              "      <td>NaN</td>\n",
              "      <td>Q</td>\n",
              "    </tr>\n",
              "    <tr>\n",
              "      <th>1</th>\n",
              "      <td>893</td>\n",
              "      <td>3</td>\n",
              "      <td>Wilkes, Mrs. James (Ellen Needs)</td>\n",
              "      <td>female</td>\n",
              "      <td>47.0</td>\n",
              "      <td>1</td>\n",
              "      <td>0</td>\n",
              "      <td>363272</td>\n",
              "      <td>7.0000</td>\n",
              "      <td>NaN</td>\n",
              "      <td>S</td>\n",
              "    </tr>\n",
              "    <tr>\n",
              "      <th>2</th>\n",
              "      <td>894</td>\n",
              "      <td>2</td>\n",
              "      <td>Myles, Mr. Thomas Francis</td>\n",
              "      <td>male</td>\n",
              "      <td>62.0</td>\n",
              "      <td>0</td>\n",
              "      <td>0</td>\n",
              "      <td>240276</td>\n",
              "      <td>9.6875</td>\n",
              "      <td>NaN</td>\n",
              "      <td>Q</td>\n",
              "    </tr>\n",
              "    <tr>\n",
              "      <th>3</th>\n",
              "      <td>895</td>\n",
              "      <td>3</td>\n",
              "      <td>Wirz, Mr. Albert</td>\n",
              "      <td>male</td>\n",
              "      <td>27.0</td>\n",
              "      <td>0</td>\n",
              "      <td>0</td>\n",
              "      <td>315154</td>\n",
              "      <td>8.6625</td>\n",
              "      <td>NaN</td>\n",
              "      <td>S</td>\n",
              "    </tr>\n",
              "    <tr>\n",
              "      <th>4</th>\n",
              "      <td>896</td>\n",
              "      <td>3</td>\n",
              "      <td>Hirvonen, Mrs. Alexander (Helga E Lindqvist)</td>\n",
              "      <td>female</td>\n",
              "      <td>22.0</td>\n",
              "      <td>1</td>\n",
              "      <td>1</td>\n",
              "      <td>3101298</td>\n",
              "      <td>12.2875</td>\n",
              "      <td>NaN</td>\n",
              "      <td>S</td>\n",
              "    </tr>\n",
              "  </tbody>\n",
              "</table>\n",
              "</div>"
            ],
            "text/plain": [
              "   PassengerId  Pclass  ... Cabin Embarked\n",
              "0          892       3  ...   NaN        Q\n",
              "1          893       3  ...   NaN        S\n",
              "2          894       2  ...   NaN        Q\n",
              "3          895       3  ...   NaN        S\n",
              "4          896       3  ...   NaN        S\n",
              "\n",
              "[5 rows x 11 columns]"
            ]
          },
          "metadata": {},
          "execution_count": 357
        }
      ]
    },
    {
      "cell_type": "code",
      "metadata": {
        "colab": {
          "base_uri": "https://localhost:8080/",
          "height": 200
        },
        "id": "44mUL68NpWxY",
        "outputId": "3c9ef4bc-f79f-4e1e-a502-415590a98083"
      },
      "source": [
        "df1_test.tail()"
      ],
      "execution_count": 358,
      "outputs": [
        {
          "output_type": "execute_result",
          "data": {
            "text/html": [
              "<div>\n",
              "<style scoped>\n",
              "    .dataframe tbody tr th:only-of-type {\n",
              "        vertical-align: middle;\n",
              "    }\n",
              "\n",
              "    .dataframe tbody tr th {\n",
              "        vertical-align: top;\n",
              "    }\n",
              "\n",
              "    .dataframe thead th {\n",
              "        text-align: right;\n",
              "    }\n",
              "</style>\n",
              "<table border=\"1\" class=\"dataframe\">\n",
              "  <thead>\n",
              "    <tr style=\"text-align: right;\">\n",
              "      <th></th>\n",
              "      <th>PassengerId</th>\n",
              "      <th>Pclass</th>\n",
              "      <th>Name</th>\n",
              "      <th>Sex</th>\n",
              "      <th>Age</th>\n",
              "      <th>SibSp</th>\n",
              "      <th>Parch</th>\n",
              "      <th>Ticket</th>\n",
              "      <th>Fare</th>\n",
              "      <th>Cabin</th>\n",
              "      <th>Embarked</th>\n",
              "    </tr>\n",
              "  </thead>\n",
              "  <tbody>\n",
              "    <tr>\n",
              "      <th>413</th>\n",
              "      <td>1305</td>\n",
              "      <td>3</td>\n",
              "      <td>Spector, Mr. Woolf</td>\n",
              "      <td>male</td>\n",
              "      <td>NaN</td>\n",
              "      <td>0</td>\n",
              "      <td>0</td>\n",
              "      <td>A.5. 3236</td>\n",
              "      <td>8.0500</td>\n",
              "      <td>NaN</td>\n",
              "      <td>S</td>\n",
              "    </tr>\n",
              "    <tr>\n",
              "      <th>414</th>\n",
              "      <td>1306</td>\n",
              "      <td>1</td>\n",
              "      <td>Oliva y Ocana, Dona. Fermina</td>\n",
              "      <td>female</td>\n",
              "      <td>39.0</td>\n",
              "      <td>0</td>\n",
              "      <td>0</td>\n",
              "      <td>PC 17758</td>\n",
              "      <td>108.9000</td>\n",
              "      <td>C105</td>\n",
              "      <td>C</td>\n",
              "    </tr>\n",
              "    <tr>\n",
              "      <th>415</th>\n",
              "      <td>1307</td>\n",
              "      <td>3</td>\n",
              "      <td>Saether, Mr. Simon Sivertsen</td>\n",
              "      <td>male</td>\n",
              "      <td>38.5</td>\n",
              "      <td>0</td>\n",
              "      <td>0</td>\n",
              "      <td>SOTON/O.Q. 3101262</td>\n",
              "      <td>7.2500</td>\n",
              "      <td>NaN</td>\n",
              "      <td>S</td>\n",
              "    </tr>\n",
              "    <tr>\n",
              "      <th>416</th>\n",
              "      <td>1308</td>\n",
              "      <td>3</td>\n",
              "      <td>Ware, Mr. Frederick</td>\n",
              "      <td>male</td>\n",
              "      <td>NaN</td>\n",
              "      <td>0</td>\n",
              "      <td>0</td>\n",
              "      <td>359309</td>\n",
              "      <td>8.0500</td>\n",
              "      <td>NaN</td>\n",
              "      <td>S</td>\n",
              "    </tr>\n",
              "    <tr>\n",
              "      <th>417</th>\n",
              "      <td>1309</td>\n",
              "      <td>3</td>\n",
              "      <td>Peter, Master. Michael J</td>\n",
              "      <td>male</td>\n",
              "      <td>NaN</td>\n",
              "      <td>1</td>\n",
              "      <td>1</td>\n",
              "      <td>2668</td>\n",
              "      <td>22.3583</td>\n",
              "      <td>NaN</td>\n",
              "      <td>C</td>\n",
              "    </tr>\n",
              "  </tbody>\n",
              "</table>\n",
              "</div>"
            ],
            "text/plain": [
              "     PassengerId  Pclass                          Name  ...      Fare  Cabin  Embarked\n",
              "413         1305       3            Spector, Mr. Woolf  ...    8.0500    NaN         S\n",
              "414         1306       1  Oliva y Ocana, Dona. Fermina  ...  108.9000   C105         C\n",
              "415         1307       3  Saether, Mr. Simon Sivertsen  ...    7.2500    NaN         S\n",
              "416         1308       3           Ware, Mr. Frederick  ...    8.0500    NaN         S\n",
              "417         1309       3      Peter, Master. Michael J  ...   22.3583    NaN         C\n",
              "\n",
              "[5 rows x 11 columns]"
            ]
          },
          "metadata": {},
          "execution_count": 358
        }
      ]
    },
    {
      "cell_type": "code",
      "metadata": {
        "colab": {
          "base_uri": "https://localhost:8080/",
          "height": 290
        },
        "id": "iiuvXE9ApWuq",
        "outputId": "5f47675e-8630-4719-c4f3-f11891364e18"
      },
      "source": [
        "df1_test.describe()"
      ],
      "execution_count": 359,
      "outputs": [
        {
          "output_type": "execute_result",
          "data": {
            "text/html": [
              "<div>\n",
              "<style scoped>\n",
              "    .dataframe tbody tr th:only-of-type {\n",
              "        vertical-align: middle;\n",
              "    }\n",
              "\n",
              "    .dataframe tbody tr th {\n",
              "        vertical-align: top;\n",
              "    }\n",
              "\n",
              "    .dataframe thead th {\n",
              "        text-align: right;\n",
              "    }\n",
              "</style>\n",
              "<table border=\"1\" class=\"dataframe\">\n",
              "  <thead>\n",
              "    <tr style=\"text-align: right;\">\n",
              "      <th></th>\n",
              "      <th>PassengerId</th>\n",
              "      <th>Pclass</th>\n",
              "      <th>Age</th>\n",
              "      <th>SibSp</th>\n",
              "      <th>Parch</th>\n",
              "      <th>Fare</th>\n",
              "    </tr>\n",
              "  </thead>\n",
              "  <tbody>\n",
              "    <tr>\n",
              "      <th>count</th>\n",
              "      <td>418.000000</td>\n",
              "      <td>418.000000</td>\n",
              "      <td>332.000000</td>\n",
              "      <td>418.000000</td>\n",
              "      <td>418.000000</td>\n",
              "      <td>417.000000</td>\n",
              "    </tr>\n",
              "    <tr>\n",
              "      <th>mean</th>\n",
              "      <td>1100.500000</td>\n",
              "      <td>2.265550</td>\n",
              "      <td>30.272590</td>\n",
              "      <td>0.447368</td>\n",
              "      <td>0.392344</td>\n",
              "      <td>35.627188</td>\n",
              "    </tr>\n",
              "    <tr>\n",
              "      <th>std</th>\n",
              "      <td>120.810458</td>\n",
              "      <td>0.841838</td>\n",
              "      <td>14.181209</td>\n",
              "      <td>0.896760</td>\n",
              "      <td>0.981429</td>\n",
              "      <td>55.907576</td>\n",
              "    </tr>\n",
              "    <tr>\n",
              "      <th>min</th>\n",
              "      <td>892.000000</td>\n",
              "      <td>1.000000</td>\n",
              "      <td>0.170000</td>\n",
              "      <td>0.000000</td>\n",
              "      <td>0.000000</td>\n",
              "      <td>0.000000</td>\n",
              "    </tr>\n",
              "    <tr>\n",
              "      <th>25%</th>\n",
              "      <td>996.250000</td>\n",
              "      <td>1.000000</td>\n",
              "      <td>21.000000</td>\n",
              "      <td>0.000000</td>\n",
              "      <td>0.000000</td>\n",
              "      <td>7.895800</td>\n",
              "    </tr>\n",
              "    <tr>\n",
              "      <th>50%</th>\n",
              "      <td>1100.500000</td>\n",
              "      <td>3.000000</td>\n",
              "      <td>27.000000</td>\n",
              "      <td>0.000000</td>\n",
              "      <td>0.000000</td>\n",
              "      <td>14.454200</td>\n",
              "    </tr>\n",
              "    <tr>\n",
              "      <th>75%</th>\n",
              "      <td>1204.750000</td>\n",
              "      <td>3.000000</td>\n",
              "      <td>39.000000</td>\n",
              "      <td>1.000000</td>\n",
              "      <td>0.000000</td>\n",
              "      <td>31.500000</td>\n",
              "    </tr>\n",
              "    <tr>\n",
              "      <th>max</th>\n",
              "      <td>1309.000000</td>\n",
              "      <td>3.000000</td>\n",
              "      <td>76.000000</td>\n",
              "      <td>8.000000</td>\n",
              "      <td>9.000000</td>\n",
              "      <td>512.329200</td>\n",
              "    </tr>\n",
              "  </tbody>\n",
              "</table>\n",
              "</div>"
            ],
            "text/plain": [
              "       PassengerId      Pclass         Age       SibSp       Parch        Fare\n",
              "count   418.000000  418.000000  332.000000  418.000000  418.000000  417.000000\n",
              "mean   1100.500000    2.265550   30.272590    0.447368    0.392344   35.627188\n",
              "std     120.810458    0.841838   14.181209    0.896760    0.981429   55.907576\n",
              "min     892.000000    1.000000    0.170000    0.000000    0.000000    0.000000\n",
              "25%     996.250000    1.000000   21.000000    0.000000    0.000000    7.895800\n",
              "50%    1100.500000    3.000000   27.000000    0.000000    0.000000   14.454200\n",
              "75%    1204.750000    3.000000   39.000000    1.000000    0.000000   31.500000\n",
              "max    1309.000000    3.000000   76.000000    8.000000    9.000000  512.329200"
            ]
          },
          "metadata": {},
          "execution_count": 359
        }
      ]
    },
    {
      "cell_type": "code",
      "metadata": {
        "colab": {
          "base_uri": "https://localhost:8080/"
        },
        "id": "v1tTYNPUpWtA",
        "outputId": "9713ac21-4c8f-43b4-9019-626ad1ec787e"
      },
      "source": [
        "df1_test.info()"
      ],
      "execution_count": 360,
      "outputs": [
        {
          "output_type": "stream",
          "name": "stdout",
          "text": [
            "<class 'pandas.core.frame.DataFrame'>\n",
            "RangeIndex: 418 entries, 0 to 417\n",
            "Data columns (total 11 columns):\n",
            " #   Column       Non-Null Count  Dtype  \n",
            "---  ------       --------------  -----  \n",
            " 0   PassengerId  418 non-null    int64  \n",
            " 1   Pclass       418 non-null    int64  \n",
            " 2   Name         418 non-null    object \n",
            " 3   Sex          418 non-null    object \n",
            " 4   Age          332 non-null    float64\n",
            " 5   SibSp        418 non-null    int64  \n",
            " 6   Parch        418 non-null    int64  \n",
            " 7   Ticket       418 non-null    object \n",
            " 8   Fare         417 non-null    float64\n",
            " 9   Cabin        91 non-null     object \n",
            " 10  Embarked     418 non-null    object \n",
            "dtypes: float64(2), int64(4), object(5)\n",
            "memory usage: 36.0+ KB\n"
          ]
        }
      ]
    },
    {
      "cell_type": "code",
      "metadata": {
        "colab": {
          "base_uri": "https://localhost:8080/"
        },
        "id": "NASwbnrspWp5",
        "outputId": "7495ee93-176d-416c-aeff-8e36300d4f1d"
      },
      "source": [
        "df1_test.dtypes"
      ],
      "execution_count": 361,
      "outputs": [
        {
          "output_type": "execute_result",
          "data": {
            "text/plain": [
              "PassengerId      int64\n",
              "Pclass           int64\n",
              "Name            object\n",
              "Sex             object\n",
              "Age            float64\n",
              "SibSp            int64\n",
              "Parch            int64\n",
              "Ticket          object\n",
              "Fare           float64\n",
              "Cabin           object\n",
              "Embarked        object\n",
              "dtype: object"
            ]
          },
          "metadata": {},
          "execution_count": 361
        }
      ]
    },
    {
      "cell_type": "code",
      "metadata": {
        "colab": {
          "base_uri": "https://localhost:8080/"
        },
        "id": "0XxgZaGVpWjn",
        "outputId": "90686662-622d-4aa8-a1d3-43d0579ff238"
      },
      "source": [
        "df1_test.shape"
      ],
      "execution_count": 362,
      "outputs": [
        {
          "output_type": "execute_result",
          "data": {
            "text/plain": [
              "(418, 11)"
            ]
          },
          "metadata": {},
          "execution_count": 362
        }
      ]
    },
    {
      "cell_type": "code",
      "metadata": {
        "colab": {
          "base_uri": "https://localhost:8080/"
        },
        "id": "SMOyulgmp4hF",
        "outputId": "028410bb-c02d-4938-f26a-d7e66b77d036"
      },
      "source": [
        "df1_test.isnull().sum()"
      ],
      "execution_count": 363,
      "outputs": [
        {
          "output_type": "execute_result",
          "data": {
            "text/plain": [
              "PassengerId      0\n",
              "Pclass           0\n",
              "Name             0\n",
              "Sex              0\n",
              "Age             86\n",
              "SibSp            0\n",
              "Parch            0\n",
              "Ticket           0\n",
              "Fare             1\n",
              "Cabin          327\n",
              "Embarked         0\n",
              "dtype: int64"
            ]
          },
          "metadata": {},
          "execution_count": 363
        }
      ]
    },
    {
      "cell_type": "code",
      "metadata": {
        "colab": {
          "base_uri": "https://localhost:8080/",
          "height": 78
        },
        "id": "zQjOhAa1p4ZX",
        "outputId": "1afde5b3-fb88-4257-e56d-a2b7d2fe4efd"
      },
      "source": [
        "df1_test.loc[df1_test[\"Fare\"].isnull()]"
      ],
      "execution_count": 364,
      "outputs": [
        {
          "output_type": "execute_result",
          "data": {
            "text/html": [
              "<div>\n",
              "<style scoped>\n",
              "    .dataframe tbody tr th:only-of-type {\n",
              "        vertical-align: middle;\n",
              "    }\n",
              "\n",
              "    .dataframe tbody tr th {\n",
              "        vertical-align: top;\n",
              "    }\n",
              "\n",
              "    .dataframe thead th {\n",
              "        text-align: right;\n",
              "    }\n",
              "</style>\n",
              "<table border=\"1\" class=\"dataframe\">\n",
              "  <thead>\n",
              "    <tr style=\"text-align: right;\">\n",
              "      <th></th>\n",
              "      <th>PassengerId</th>\n",
              "      <th>Pclass</th>\n",
              "      <th>Name</th>\n",
              "      <th>Sex</th>\n",
              "      <th>Age</th>\n",
              "      <th>SibSp</th>\n",
              "      <th>Parch</th>\n",
              "      <th>Ticket</th>\n",
              "      <th>Fare</th>\n",
              "      <th>Cabin</th>\n",
              "      <th>Embarked</th>\n",
              "    </tr>\n",
              "  </thead>\n",
              "  <tbody>\n",
              "    <tr>\n",
              "      <th>152</th>\n",
              "      <td>1044</td>\n",
              "      <td>3</td>\n",
              "      <td>Storey, Mr. Thomas</td>\n",
              "      <td>male</td>\n",
              "      <td>60.5</td>\n",
              "      <td>0</td>\n",
              "      <td>0</td>\n",
              "      <td>3701</td>\n",
              "      <td>NaN</td>\n",
              "      <td>NaN</td>\n",
              "      <td>S</td>\n",
              "    </tr>\n",
              "  </tbody>\n",
              "</table>\n",
              "</div>"
            ],
            "text/plain": [
              "     PassengerId  Pclass                Name   Sex  ...  Ticket  Fare  Cabin Embarked\n",
              "152         1044       3  Storey, Mr. Thomas  male  ...    3701   NaN    NaN        S\n",
              "\n",
              "[1 rows x 11 columns]"
            ]
          },
          "metadata": {},
          "execution_count": 364
        }
      ]
    },
    {
      "cell_type": "markdown",
      "metadata": {
        "id": "8aFBcy7l8Dej"
      },
      "source": [
        "he was in class 3, travelled alone, no family, embarked in S so we can takeothers in this category, replace the missing fare with the median of this group"
      ]
    },
    {
      "cell_type": "code",
      "metadata": {
        "colab": {
          "base_uri": "https://localhost:8080/"
        },
        "id": "iByWqra_78J4",
        "outputId": "4352fb88-8f8b-4794-e67c-aa7b1547e843"
      },
      "source": [
        "thomas=df1_test.loc[(df1_test[\"Pclass\"]==3) & (df1_test[\"Embarked\"] == \"S\")][\"Fare\"].median()\n",
        "print(thomas)\n",
        "df1_test.loc[df1_test[\"Fare\"].isnull(), \"Fare\"]=thomas"
      ],
      "execution_count": 367,
      "outputs": [
        {
          "output_type": "stream",
          "name": "stdout",
          "text": [
            "8.05\n"
          ]
        }
      ]
    },
    {
      "cell_type": "markdown",
      "metadata": {
        "id": "bMIPEmVhp_1O"
      },
      "source": [
        "Check for outliers since we want our test features to match our train features for a good prediction"
      ]
    },
    {
      "cell_type": "code",
      "metadata": {
        "colab": {
          "base_uri": "https://localhost:8080/",
          "height": 1000
        },
        "id": "HjeLvktlp4RJ",
        "outputId": "dd5d78e1-41a0-49e9-f015-e6f93beb6d5a"
      },
      "source": [
        "fig, axes = plt.subplots(nrows = 2, ncols = 2, figsize = (20, 20))\n",
        "# label the title\n",
        "fig.suptitle('Box plots for Dataset features', y= 1, color = 'black', fontsize = 15)\n",
        "sns.set(style = 'whitegrid', context = 'notebook')\n",
        "\n",
        "# Use a for loop to iterate through our num list\n",
        "num=[\"Age\",'SibSp','Parch', 'Fare']\n",
        "\n",
        "for ax, data, name in zip(axes.flatten(), df1_test, num):\n",
        "  sns.boxplot(df1_test[name], ax = ax)\n",
        "  ax.set_title('Box plot for '+ name)  \n",
        "plt.show()"
      ],
      "execution_count": 368,
      "outputs": [
        {
          "output_type": "stream",
          "name": "stderr",
          "text": [
            "/usr/local/lib/python3.7/dist-packages/seaborn/_decorators.py:43: FutureWarning: Pass the following variable as a keyword arg: x. From version 0.12, the only valid positional argument will be `data`, and passing other arguments without an explicit keyword will result in an error or misinterpretation.\n",
            "  FutureWarning\n",
            "/usr/local/lib/python3.7/dist-packages/seaborn/_decorators.py:43: FutureWarning: Pass the following variable as a keyword arg: x. From version 0.12, the only valid positional argument will be `data`, and passing other arguments without an explicit keyword will result in an error or misinterpretation.\n",
            "  FutureWarning\n",
            "/usr/local/lib/python3.7/dist-packages/seaborn/_decorators.py:43: FutureWarning: Pass the following variable as a keyword arg: x. From version 0.12, the only valid positional argument will be `data`, and passing other arguments without an explicit keyword will result in an error or misinterpretation.\n",
            "  FutureWarning\n",
            "/usr/local/lib/python3.7/dist-packages/seaborn/_decorators.py:43: FutureWarning: Pass the following variable as a keyword arg: x. From version 0.12, the only valid positional argument will be `data`, and passing other arguments without an explicit keyword will result in an error or misinterpretation.\n",
            "  FutureWarning\n"
          ]
        },
        {
          "output_type": "display_data",
          "data": {
            "image/png": "[encoded data removed]",
            "text/plain": [
              "<Figure size 1440x1440 with 4 Axes>"
            ]
          },
          "metadata": {}
        }
      ]
    },
    {
      "cell_type": "code",
      "metadata": {
        "colab": {
          "base_uri": "https://localhost:8080/"
        },
        "id": "5AeCcidmnUmM",
        "outputId": "af5c50c3-ce78-46c8-93a9-6cfad3d3381f"
      },
      "source": [
        "# Fill null values with 'S'for most common occurence\n",
        "common = 'S'\n",
        "df1_test['Embarked']=df1_test['Embarked'].fillna('S')\n",
        "\n",
        "# Checking the no of null values now\n",
        "df1_test['Embarked'].isnull().sum()"
      ],
      "execution_count": 369,
      "outputs": [
        {
          "output_type": "execute_result",
          "data": {
            "text/plain": [
              "0"
            ]
          },
          "metadata": {},
          "execution_count": 369
        }
      ]
    },
    {
      "cell_type": "markdown",
      "metadata": {
        "id": "kSziWTAin1CC"
      },
      "source": [
        "fill missing ages values by the pclass "
      ]
    },
    {
      "cell_type": "code",
      "metadata": {
        "id": "OzyrXKdhnidf"
      },
      "source": [
        "df1_test[\"Age\"]=df1_test.groupby([\"Pclass\",\"Sex\"])[\"Age\"].apply(lambda x: x.fillna(x.median()))"
      ],
      "execution_count": 370,
      "outputs": []
    },
    {
      "cell_type": "code",
      "metadata": {
        "id": "Dbbl83VRniVb"
      },
      "source": [
        ""
      ],
      "execution_count": 370,
      "outputs": []
    },
    {
      "cell_type": "markdown",
      "metadata": {
        "id": "xCYSV5eedXRI"
      },
      "source": [
        "### EDA"
      ]
    },
    {
      "cell_type": "code",
      "metadata": {
        "colab": {
          "base_uri": "https://localhost:8080/",
          "height": 881
        },
        "id": "2fiC9lEDdbha",
        "outputId": "f66546a3-9887-4930-ecff-d272de7515bd"
      },
      "source": [
        "df1_train.hist(figsize=(16,12))"
      ],
      "execution_count": 371,
      "outputs": [
        {
          "output_type": "execute_result",
          "data": {
            "text/plain": [
              "array([[<matplotlib.axes._subplots.AxesSubplot object at 0x7fa0ee8d67d0>,\n",
              "        <matplotlib.axes._subplots.AxesSubplot object at 0x7fa0ee6d18d0>,\n",
              "        <matplotlib.axes._subplots.AxesSubplot object at 0x7fa0ee69db90>],\n",
              "       [<matplotlib.axes._subplots.AxesSubplot object at 0x7fa0ee5e9610>,\n",
              "        <matplotlib.axes._subplots.AxesSubplot object at 0x7fa0ee61db90>,\n",
              "        <matplotlib.axes._subplots.AxesSubplot object at 0x7fa0ee5df150>],\n",
              "       [<matplotlib.axes._subplots.AxesSubplot object at 0x7fa0ee594750>,\n",
              "        <matplotlib.axes._subplots.AxesSubplot object at 0x7fa0ee54ac10>,\n",
              "        <matplotlib.axes._subplots.AxesSubplot object at 0x7fa0ee54ac50>]],\n",
              "      dtype=object)"
            ]
          },
          "metadata": {},
          "execution_count": 371
        },
        {
          "output_type": "display_data",
          "data": {
            "image/png": "[encoded data removed]",
            "text/plain": [
              "<Figure size 1152x864 with 9 Axes>"
            ]
          },
          "metadata": {}
        }
      ]
    },
    {
      "cell_type": "markdown",
      "metadata": {
        "id": "oNDoIny1gFNk"
      },
      "source": [
        "survival rate by family size"
      ]
    },
    {
      "cell_type": "code",
      "metadata": {
        "colab": {
          "base_uri": "https://localhost:8080/",
          "height": 305
        },
        "id": "8ALXylp8fdaF",
        "outputId": "f9388db6-6b26-4236-854b-f48fed5a2528"
      },
      "source": [
        "df1_train.groupby('FamilySize').agg({\"Survived\" : 'mean'}).plot(kind='bar')"
      ],
      "execution_count": 372,
      "outputs": [
        {
          "output_type": "execute_result",
          "data": {
            "text/plain": [
              "<matplotlib.axes._subplots.AxesSubplot at 0x7fa0ee276590>"
            ]
          },
          "metadata": {},
          "execution_count": 372
        },
        {
          "output_type": "display_data",
          "data": {
            "image/png": "[encoded data removed]",
            "text/plain": [
              "<Figure size 432x288 with 1 Axes>"
            ]
          },
          "metadata": {}
        }
      ]
    },
    {
      "cell_type": "markdown",
      "metadata": {
        "id": "3yyOIptKf902"
      },
      "source": [
        "survival rate by Pclass"
      ]
    },
    {
      "cell_type": "code",
      "metadata": {
        "colab": {
          "base_uri": "https://localhost:8080/",
          "height": 301
        },
        "id": "iDeY1rnof1Ea",
        "outputId": "406d56e5-dbba-4c94-aa37-b0f8a5469d8b"
      },
      "source": [
        "sns.set(style = 'whitegrid', context = 'notebook')\n",
        "sns.barplot(x='Pclass', y='Survived', data=df1_train)"
      ],
      "execution_count": 373,
      "outputs": [
        {
          "output_type": "execute_result",
          "data": {
            "text/plain": [
              "<matplotlib.axes._subplots.AxesSubplot at 0x7fa0ee276d90>"
            ]
          },
          "metadata": {},
          "execution_count": 373
        },
        {
          "output_type": "display_data",
          "data": {
            "image/png": "[encoded data removed]",
            "text/plain": [
              "<Figure size 432x288 with 1 Axes>"
            ]
          },
          "metadata": {}
        }
      ]
    },
    {
      "cell_type": "markdown",
      "metadata": {
        "id": "3fUq_A2KcgsK"
      },
      "source": [
        "### FEATURE ENGINEERING"
      ]
    },
    {
      "cell_type": "code",
      "metadata": {
        "id": "EV55zB0OcknQ"
      },
      "source": [
        "df1_train['Embarked'] = df1_train['Embarked'].map({'C':0, 'Q':1, 'S':2})\n",
        "df1_train['Sex'] = df1_train['Sex'].map({'male':0, 'female':1})"
      ],
      "execution_count": 374,
      "outputs": []
    },
    {
      "cell_type": "code",
      "metadata": {
        "id": "NIQlpXlxqii8"
      },
      "source": [
        "df1_test['Embarked'] = df1_test['Embarked'].map({'C':0, 'Q':1, 'S':2})\n",
        "df1_test['Sex'] = df1_test['Sex'].map({'male':0, 'female':1})"
      ],
      "execution_count": 375,
      "outputs": []
    },
    {
      "cell_type": "markdown",
      "metadata": {
        "id": "0R9_GAWzsUKi"
      },
      "source": [
        "I’m going to remove the “PassengerId” and “Ticket” features as they don’t seem to add any real value"
      ]
    },
    {
      "cell_type": "code",
      "metadata": {
        "id": "tAXcSyLzgp2X"
      },
      "source": [
        "df1_train.drop(columns=['PassengerId','Ticket'], inplace=True)\n",
        "df1_test.drop(columns=['PassengerId','Ticket'], inplace=True)\n"
      ],
      "execution_count": 376,
      "outputs": []
    },
    {
      "cell_type": "markdown",
      "metadata": {
        "id": "xD1umixIuWp0"
      },
      "source": [
        "the passenger names are a problem however i feel like we could manipulate it in such a way that it could be beneficial to us. Back in the day everyone seemed to have a title so maybe if we can extract that from the name we could use it as a categorical feature."
      ]
    },
    {
      "cell_type": "code",
      "metadata": {
        "id": "EuSLsrJjuo2K"
      },
      "source": [
        "df1_train['Title'] = df1_train['Name'].map(lambda x: x.split(',')[1].split('.')[0].strip())\n",
        "df1_test['Title'] = df1_test['Name'].map(lambda x: x.split(',')[1].split('.')[0].strip())"
      ],
      "execution_count": 377,
      "outputs": []
    },
    {
      "cell_type": "code",
      "metadata": {
        "id": "VzOWLP4frCm-"
      },
      "source": [
        "df1_train.drop(columns=['Name','Cabin','FamilySize'], inplace=True)\n",
        "df1_test.drop(columns=['Name','Cabin'], inplace=True)"
      ],
      "execution_count": 378,
      "outputs": []
    },
    {
      "cell_type": "code",
      "metadata": {
        "colab": {
          "base_uri": "https://localhost:8080/"
        },
        "id": "rwk-1BpNrCjS",
        "outputId": "97b2cf46-2ab0-419f-ae98-9dd6de0a136c"
      },
      "source": [
        "df1_train['Title'].value_counts()"
      ],
      "execution_count": 379,
      "outputs": [
        {
          "output_type": "execute_result",
          "data": {
            "text/plain": [
              "Mr              517\n",
              "Miss            182\n",
              "Mrs             125\n",
              "Master           40\n",
              "Dr                7\n",
              "Rev               6\n",
              "Col               2\n",
              "Mlle              2\n",
              "Major             2\n",
              "Don               1\n",
              "Ms                1\n",
              "Jonkheer          1\n",
              "Mme               1\n",
              "Lady              1\n",
              "Capt              1\n",
              "the Countess      1\n",
              "Sir               1\n",
              "Name: Title, dtype: int64"
            ]
          },
          "metadata": {},
          "execution_count": 379
        }
      ]
    },
    {
      "cell_type": "code",
      "metadata": {
        "id": "KUOCdxCWw1P6"
      },
      "source": [
        "from sklearn import preprocessing\n",
        "le = preprocessing.LabelEncoder()\n",
        "df1_train['Title'] = le.fit_transform(df1_train['Title'])\n",
        "\n",
        "le = preprocessing.LabelEncoder()\n",
        "df1_test['Title'] = le.fit_transform(df1_test['Title'])"
      ],
      "execution_count": 380,
      "outputs": []
    },
    {
      "cell_type": "code",
      "metadata": {
        "colab": {
          "base_uri": "https://localhost:8080/",
          "height": 200
        },
        "id": "WEUh8kDQrCew",
        "outputId": "b82423dc-8237-4c08-e399-3e2ee7fb0fe1"
      },
      "source": [
        "df1_train.head()"
      ],
      "execution_count": 381,
      "outputs": [
        {
          "output_type": "execute_result",
          "data": {
            "text/html": [
              "<div>\n",
              "<style scoped>\n",
              "    .dataframe tbody tr th:only-of-type {\n",
              "        vertical-align: middle;\n",
              "    }\n",
              "\n",
              "    .dataframe tbody tr th {\n",
              "        vertical-align: top;\n",
              "    }\n",
              "\n",
              "    .dataframe thead th {\n",
              "        text-align: right;\n",
              "    }\n",
              "</style>\n",
              "<table border=\"1\" class=\"dataframe\">\n",
              "  <thead>\n",
              "    <tr style=\"text-align: right;\">\n",
              "      <th></th>\n",
              "      <th>Survived</th>\n",
              "      <th>Pclass</th>\n",
              "      <th>Sex</th>\n",
              "      <th>Age</th>\n",
              "      <th>SibSp</th>\n",
              "      <th>Parch</th>\n",
              "      <th>Fare</th>\n",
              "      <th>Embarked</th>\n",
              "      <th>Title</th>\n",
              "    </tr>\n",
              "  </thead>\n",
              "  <tbody>\n",
              "    <tr>\n",
              "      <th>0</th>\n",
              "      <td>0</td>\n",
              "      <td>3</td>\n",
              "      <td>0</td>\n",
              "      <td>22.0</td>\n",
              "      <td>1</td>\n",
              "      <td>0</td>\n",
              "      <td>7.2500</td>\n",
              "      <td>2</td>\n",
              "      <td>11</td>\n",
              "    </tr>\n",
              "    <tr>\n",
              "      <th>1</th>\n",
              "      <td>1</td>\n",
              "      <td>1</td>\n",
              "      <td>1</td>\n",
              "      <td>38.0</td>\n",
              "      <td>1</td>\n",
              "      <td>0</td>\n",
              "      <td>71.2833</td>\n",
              "      <td>0</td>\n",
              "      <td>12</td>\n",
              "    </tr>\n",
              "    <tr>\n",
              "      <th>2</th>\n",
              "      <td>1</td>\n",
              "      <td>3</td>\n",
              "      <td>1</td>\n",
              "      <td>26.0</td>\n",
              "      <td>0</td>\n",
              "      <td>0</td>\n",
              "      <td>7.9250</td>\n",
              "      <td>2</td>\n",
              "      <td>8</td>\n",
              "    </tr>\n",
              "    <tr>\n",
              "      <th>3</th>\n",
              "      <td>1</td>\n",
              "      <td>1</td>\n",
              "      <td>1</td>\n",
              "      <td>35.0</td>\n",
              "      <td>1</td>\n",
              "      <td>0</td>\n",
              "      <td>53.1000</td>\n",
              "      <td>2</td>\n",
              "      <td>12</td>\n",
              "    </tr>\n",
              "    <tr>\n",
              "      <th>4</th>\n",
              "      <td>0</td>\n",
              "      <td>3</td>\n",
              "      <td>0</td>\n",
              "      <td>35.0</td>\n",
              "      <td>0</td>\n",
              "      <td>0</td>\n",
              "      <td>8.0500</td>\n",
              "      <td>2</td>\n",
              "      <td>11</td>\n",
              "    </tr>\n",
              "  </tbody>\n",
              "</table>\n",
              "</div>"
            ],
            "text/plain": [
              "   Survived  Pclass  Sex   Age  SibSp  Parch     Fare  Embarked  Title\n",
              "0         0       3    0  22.0      1      0   7.2500         2     11\n",
              "1         1       1    1  38.0      1      0  71.2833         0     12\n",
              "2         1       3    1  26.0      0      0   7.9250         2      8\n",
              "3         1       1    1  35.0      1      0  53.1000         2     12\n",
              "4         0       3    0  35.0      0      0   8.0500         2     11"
            ]
          },
          "metadata": {},
          "execution_count": 381
        }
      ]
    },
    {
      "cell_type": "code",
      "metadata": {
        "colab": {
          "base_uri": "https://localhost:8080/",
          "height": 200
        },
        "id": "fdZpE1J-rFcJ",
        "outputId": "06ad6cc0-73d6-4be4-c64c-c5ed125f3fb6"
      },
      "source": [
        "df1_test.head()"
      ],
      "execution_count": 382,
      "outputs": [
        {
          "output_type": "execute_result",
          "data": {
            "text/html": [
              "<div>\n",
              "<style scoped>\n",
              "    .dataframe tbody tr th:only-of-type {\n",
              "        vertical-align: middle;\n",
              "    }\n",
              "\n",
              "    .dataframe tbody tr th {\n",
              "        vertical-align: top;\n",
              "    }\n",
              "\n",
              "    .dataframe thead th {\n",
              "        text-align: right;\n",
              "    }\n",
              "</style>\n",
              "<table border=\"1\" class=\"dataframe\">\n",
              "  <thead>\n",
              "    <tr style=\"text-align: right;\">\n",
              "      <th></th>\n",
              "      <th>Pclass</th>\n",
              "      <th>Sex</th>\n",
              "      <th>Age</th>\n",
              "      <th>SibSp</th>\n",
              "      <th>Parch</th>\n",
              "      <th>Fare</th>\n",
              "      <th>Embarked</th>\n",
              "      <th>Title</th>\n",
              "    </tr>\n",
              "  </thead>\n",
              "  <tbody>\n",
              "    <tr>\n",
              "      <th>0</th>\n",
              "      <td>3</td>\n",
              "      <td>0</td>\n",
              "      <td>34.5</td>\n",
              "      <td>0</td>\n",
              "      <td>0</td>\n",
              "      <td>7.8292</td>\n",
              "      <td>1</td>\n",
              "      <td>5</td>\n",
              "    </tr>\n",
              "    <tr>\n",
              "      <th>1</th>\n",
              "      <td>3</td>\n",
              "      <td>1</td>\n",
              "      <td>47.0</td>\n",
              "      <td>1</td>\n",
              "      <td>0</td>\n",
              "      <td>7.0000</td>\n",
              "      <td>2</td>\n",
              "      <td>6</td>\n",
              "    </tr>\n",
              "    <tr>\n",
              "      <th>2</th>\n",
              "      <td>2</td>\n",
              "      <td>0</td>\n",
              "      <td>62.0</td>\n",
              "      <td>0</td>\n",
              "      <td>0</td>\n",
              "      <td>9.6875</td>\n",
              "      <td>1</td>\n",
              "      <td>5</td>\n",
              "    </tr>\n",
              "    <tr>\n",
              "      <th>3</th>\n",
              "      <td>3</td>\n",
              "      <td>0</td>\n",
              "      <td>27.0</td>\n",
              "      <td>0</td>\n",
              "      <td>0</td>\n",
              "      <td>8.6625</td>\n",
              "      <td>2</td>\n",
              "      <td>5</td>\n",
              "    </tr>\n",
              "    <tr>\n",
              "      <th>4</th>\n",
              "      <td>3</td>\n",
              "      <td>1</td>\n",
              "      <td>22.0</td>\n",
              "      <td>1</td>\n",
              "      <td>1</td>\n",
              "      <td>12.2875</td>\n",
              "      <td>2</td>\n",
              "      <td>6</td>\n",
              "    </tr>\n",
              "  </tbody>\n",
              "</table>\n",
              "</div>"
            ],
            "text/plain": [
              "   Pclass  Sex   Age  SibSp  Parch     Fare  Embarked  Title\n",
              "0       3    0  34.5      0      0   7.8292         1      5\n",
              "1       3    1  47.0      1      0   7.0000         2      6\n",
              "2       2    0  62.0      0      0   9.6875         1      5\n",
              "3       3    0  27.0      0      0   8.6625         2      5\n",
              "4       3    1  22.0      1      1  12.2875         2      6"
            ]
          },
          "metadata": {},
          "execution_count": 382
        }
      ]
    },
    {
      "cell_type": "code",
      "metadata": {
        "colab": {
          "base_uri": "https://localhost:8080/",
          "height": 320
        },
        "id": "wRiA77EnrK5l",
        "outputId": "da23083f-c853-406f-f752-75ce2723a78a"
      },
      "source": [
        "df1_train.corr()"
      ],
      "execution_count": 383,
      "outputs": [
        {
          "output_type": "execute_result",
          "data": {
            "text/html": [
              "<div>\n",
              "<style scoped>\n",
              "    .dataframe tbody tr th:only-of-type {\n",
              "        vertical-align: middle;\n",
              "    }\n",
              "\n",
              "    .dataframe tbody tr th {\n",
              "        vertical-align: top;\n",
              "    }\n",
              "\n",
              "    .dataframe thead th {\n",
              "        text-align: right;\n",
              "    }\n",
              "</style>\n",
              "<table border=\"1\" class=\"dataframe\">\n",
              "  <thead>\n",
              "    <tr style=\"text-align: right;\">\n",
              "      <th></th>\n",
              "      <th>Survived</th>\n",
              "      <th>Pclass</th>\n",
              "      <th>Sex</th>\n",
              "      <th>Age</th>\n",
              "      <th>SibSp</th>\n",
              "      <th>Parch</th>\n",
              "      <th>Fare</th>\n",
              "      <th>Embarked</th>\n",
              "      <th>Title</th>\n",
              "    </tr>\n",
              "  </thead>\n",
              "  <tbody>\n",
              "    <tr>\n",
              "      <th>Survived</th>\n",
              "      <td>1.000000</td>\n",
              "      <td>-0.338481</td>\n",
              "      <td>0.543351</td>\n",
              "      <td>-0.059579</td>\n",
              "      <td>-0.035322</td>\n",
              "      <td>0.081629</td>\n",
              "      <td>0.257307</td>\n",
              "      <td>-0.167675</td>\n",
              "      <td>-0.193635</td>\n",
              "    </tr>\n",
              "    <tr>\n",
              "      <th>Pclass</th>\n",
              "      <td>-0.338481</td>\n",
              "      <td>1.000000</td>\n",
              "      <td>-0.131900</td>\n",
              "      <td>-0.413583</td>\n",
              "      <td>0.083081</td>\n",
              "      <td>0.018443</td>\n",
              "      <td>-0.549500</td>\n",
              "      <td>0.162098</td>\n",
              "      <td>0.029099</td>\n",
              "    </tr>\n",
              "    <tr>\n",
              "      <th>Sex</th>\n",
              "      <td>0.543351</td>\n",
              "      <td>-0.131900</td>\n",
              "      <td>1.000000</td>\n",
              "      <td>-0.102706</td>\n",
              "      <td>0.114631</td>\n",
              "      <td>0.245489</td>\n",
              "      <td>0.182333</td>\n",
              "      <td>-0.108262</td>\n",
              "      <td>-0.250075</td>\n",
              "    </tr>\n",
              "    <tr>\n",
              "      <th>Age</th>\n",
              "      <td>-0.059579</td>\n",
              "      <td>-0.413583</td>\n",
              "      <td>-0.102706</td>\n",
              "      <td>1.000000</td>\n",
              "      <td>-0.249854</td>\n",
              "      <td>-0.175526</td>\n",
              "      <td>0.122692</td>\n",
              "      <td>-0.007833</td>\n",
              "      <td>0.297177</td>\n",
              "    </tr>\n",
              "    <tr>\n",
              "      <th>SibSp</th>\n",
              "      <td>-0.035322</td>\n",
              "      <td>0.083081</td>\n",
              "      <td>0.114631</td>\n",
              "      <td>-0.249854</td>\n",
              "      <td>1.000000</td>\n",
              "      <td>0.414838</td>\n",
              "      <td>0.159651</td>\n",
              "      <td>0.068230</td>\n",
              "      <td>-0.200046</td>\n",
              "    </tr>\n",
              "    <tr>\n",
              "      <th>Parch</th>\n",
              "      <td>0.081629</td>\n",
              "      <td>0.018443</td>\n",
              "      <td>0.245489</td>\n",
              "      <td>-0.175526</td>\n",
              "      <td>0.414838</td>\n",
              "      <td>1.000000</td>\n",
              "      <td>0.216225</td>\n",
              "      <td>0.039798</td>\n",
              "      <td>-0.126422</td>\n",
              "    </tr>\n",
              "    <tr>\n",
              "      <th>Fare</th>\n",
              "      <td>0.257307</td>\n",
              "      <td>-0.549500</td>\n",
              "      <td>0.182333</td>\n",
              "      <td>0.122692</td>\n",
              "      <td>0.159651</td>\n",
              "      <td>0.216225</td>\n",
              "      <td>1.000000</td>\n",
              "      <td>-0.224719</td>\n",
              "      <td>-0.077461</td>\n",
              "    </tr>\n",
              "    <tr>\n",
              "      <th>Embarked</th>\n",
              "      <td>-0.167675</td>\n",
              "      <td>0.162098</td>\n",
              "      <td>-0.108262</td>\n",
              "      <td>-0.007833</td>\n",
              "      <td>0.068230</td>\n",
              "      <td>0.039798</td>\n",
              "      <td>-0.224719</td>\n",
              "      <td>1.000000</td>\n",
              "      <td>0.072621</td>\n",
              "    </tr>\n",
              "    <tr>\n",
              "      <th>Title</th>\n",
              "      <td>-0.193635</td>\n",
              "      <td>0.029099</td>\n",
              "      <td>-0.250075</td>\n",
              "      <td>0.297177</td>\n",
              "      <td>-0.200046</td>\n",
              "      <td>-0.126422</td>\n",
              "      <td>-0.077461</td>\n",
              "      <td>0.072621</td>\n",
              "      <td>1.000000</td>\n",
              "    </tr>\n",
              "  </tbody>\n",
              "</table>\n",
              "</div>"
            ],
            "text/plain": [
              "          Survived    Pclass       Sex  ...      Fare  Embarked     Title\n",
              "Survived  1.000000 -0.338481  0.543351  ...  0.257307 -0.167675 -0.193635\n",
              "Pclass   -0.338481  1.000000 -0.131900  ... -0.549500  0.162098  0.029099\n",
              "Sex       0.543351 -0.131900  1.000000  ...  0.182333 -0.108262 -0.250075\n",
              "Age      -0.059579 -0.413583 -0.102706  ...  0.122692 -0.007833  0.297177\n",
              "SibSp    -0.035322  0.083081  0.114631  ...  0.159651  0.068230 -0.200046\n",
              "Parch     0.081629  0.018443  0.245489  ...  0.216225  0.039798 -0.126422\n",
              "Fare      0.257307 -0.549500  0.182333  ...  1.000000 -0.224719 -0.077461\n",
              "Embarked -0.167675  0.162098 -0.108262  ... -0.224719  1.000000  0.072621\n",
              "Title    -0.193635  0.029099 -0.250075  ... -0.077461  0.072621  1.000000\n",
              "\n",
              "[9 rows x 9 columns]"
            ]
          },
          "metadata": {},
          "execution_count": 383
        }
      ]
    },
    {
      "cell_type": "code",
      "metadata": {
        "colab": {
          "base_uri": "https://localhost:8080/",
          "height": 290
        },
        "id": "82cCFSR4x_0c",
        "outputId": "c065b6fd-2601-4d22-83cb-82f109b638f2"
      },
      "source": [
        "df1_test.corr()"
      ],
      "execution_count": 384,
      "outputs": [
        {
          "output_type": "execute_result",
          "data": {
            "text/html": [
              "<div>\n",
              "<style scoped>\n",
              "    .dataframe tbody tr th:only-of-type {\n",
              "        vertical-align: middle;\n",
              "    }\n",
              "\n",
              "    .dataframe tbody tr th {\n",
              "        vertical-align: top;\n",
              "    }\n",
              "\n",
              "    .dataframe thead th {\n",
              "        text-align: right;\n",
              "    }\n",
              "</style>\n",
              "<table border=\"1\" class=\"dataframe\">\n",
              "  <thead>\n",
              "    <tr style=\"text-align: right;\">\n",
              "      <th></th>\n",
              "      <th>Pclass</th>\n",
              "      <th>Sex</th>\n",
              "      <th>Age</th>\n",
              "      <th>SibSp</th>\n",
              "      <th>Parch</th>\n",
              "      <th>Fare</th>\n",
              "      <th>Embarked</th>\n",
              "      <th>Title</th>\n",
              "    </tr>\n",
              "  </thead>\n",
              "  <tbody>\n",
              "    <tr>\n",
              "      <th>Pclass</th>\n",
              "      <td>1.000000</td>\n",
              "      <td>-0.108615</td>\n",
              "      <td>-0.534379</td>\n",
              "      <td>0.001087</td>\n",
              "      <td>0.018721</td>\n",
              "      <td>-0.577484</td>\n",
              "      <td>0.227983</td>\n",
              "      <td>-0.135452</td>\n",
              "    </tr>\n",
              "    <tr>\n",
              "      <th>Sex</th>\n",
              "      <td>-0.108615</td>\n",
              "      <td>1.000000</td>\n",
              "      <td>-0.007134</td>\n",
              "      <td>0.099943</td>\n",
              "      <td>0.159120</td>\n",
              "      <td>0.192221</td>\n",
              "      <td>-0.076281</td>\n",
              "      <td>0.071979</td>\n",
              "    </tr>\n",
              "    <tr>\n",
              "      <th>Age</th>\n",
              "      <td>-0.534379</td>\n",
              "      <td>-0.007134</td>\n",
              "      <td>1.000000</td>\n",
              "      <td>-0.080162</td>\n",
              "      <td>-0.058455</td>\n",
              "      <td>0.348031</td>\n",
              "      <td>-0.131625</td>\n",
              "      <td>0.342297</td>\n",
              "    </tr>\n",
              "    <tr>\n",
              "      <th>SibSp</th>\n",
              "      <td>0.001087</td>\n",
              "      <td>0.099943</td>\n",
              "      <td>-0.080162</td>\n",
              "      <td>1.000000</td>\n",
              "      <td>0.306895</td>\n",
              "      <td>0.172028</td>\n",
              "      <td>0.052708</td>\n",
              "      <td>-0.138202</td>\n",
              "    </tr>\n",
              "    <tr>\n",
              "      <th>Parch</th>\n",
              "      <td>0.018721</td>\n",
              "      <td>0.159120</td>\n",
              "      <td>-0.058455</td>\n",
              "      <td>0.306895</td>\n",
              "      <td>1.000000</td>\n",
              "      <td>0.230408</td>\n",
              "      <td>0.054577</td>\n",
              "      <td>-0.018418</td>\n",
              "    </tr>\n",
              "    <tr>\n",
              "      <th>Fare</th>\n",
              "      <td>-0.577484</td>\n",
              "      <td>0.192221</td>\n",
              "      <td>0.348031</td>\n",
              "      <td>0.172028</td>\n",
              "      <td>0.230408</td>\n",
              "      <td>1.000000</td>\n",
              "      <td>-0.257785</td>\n",
              "      <td>-0.011083</td>\n",
              "    </tr>\n",
              "    <tr>\n",
              "      <th>Embarked</th>\n",
              "      <td>0.227983</td>\n",
              "      <td>-0.076281</td>\n",
              "      <td>-0.131625</td>\n",
              "      <td>0.052708</td>\n",
              "      <td>0.054577</td>\n",
              "      <td>-0.257785</td>\n",
              "      <td>1.000000</td>\n",
              "      <td>0.015648</td>\n",
              "    </tr>\n",
              "    <tr>\n",
              "      <th>Title</th>\n",
              "      <td>-0.135452</td>\n",
              "      <td>0.071979</td>\n",
              "      <td>0.342297</td>\n",
              "      <td>-0.138202</td>\n",
              "      <td>-0.018418</td>\n",
              "      <td>-0.011083</td>\n",
              "      <td>0.015648</td>\n",
              "      <td>1.000000</td>\n",
              "    </tr>\n",
              "  </tbody>\n",
              "</table>\n",
              "</div>"
            ],
            "text/plain": [
              "            Pclass       Sex       Age  ...      Fare  Embarked     Title\n",
              "Pclass    1.000000 -0.108615 -0.534379  ... -0.577484  0.227983 -0.135452\n",
              "Sex      -0.108615  1.000000 -0.007134  ...  0.192221 -0.076281  0.071979\n",
              "Age      -0.534379 -0.007134  1.000000  ...  0.348031 -0.131625  0.342297\n",
              "SibSp     0.001087  0.099943 -0.080162  ...  0.172028  0.052708 -0.138202\n",
              "Parch     0.018721  0.159120 -0.058455  ...  0.230408  0.054577 -0.018418\n",
              "Fare     -0.577484  0.192221  0.348031  ...  1.000000 -0.257785 -0.011083\n",
              "Embarked  0.227983 -0.076281 -0.131625  ... -0.257785  1.000000  0.015648\n",
              "Title    -0.135452  0.071979  0.342297  ... -0.011083  0.015648  1.000000\n",
              "\n",
              "[8 rows x 8 columns]"
            ]
          },
          "metadata": {},
          "execution_count": 384
        }
      ]
    },
    {
      "cell_type": "markdown",
      "metadata": {
        "id": "CrasHSTryFvQ"
      },
      "source": [
        "As expected the remaining feartures are not correlated so we can proceed to modelling of our data"
      ]
    },
    {
      "cell_type": "markdown",
      "metadata": {
        "id": "K7mlBSvnuCQN"
      },
      "source": [
        "### MODELLING"
      ]
    },
    {
      "cell_type": "markdown",
      "metadata": {
        "id": "BU7vGqOCz3cm"
      },
      "source": [
        "#### KNN CLASSIFIER"
      ]
    },
    {
      "cell_type": "code",
      "metadata": {
        "id": "QTUM5DM51aMS"
      },
      "source": [
        "from sklearn.model_selection import train_test_split\n",
        "from sklearn.preprocessing import Normalizer, StandardScaler\n",
        "from sklearn.neighbors import KNeighborsClassifier\n",
        "from sklearn.model_selection import KFold\n",
        "from sklearn.model_selection import GridSearchCV\n",
        "from sklearn.metrics import accuracy_score, confusion_matrix, classification_report\n",
        "from sklearn.discriminant_analysis import LinearDiscriminantAnalysis as LDA"
      ],
      "execution_count": 400,
      "outputs": []
    },
    {
      "cell_type": "code",
      "metadata": {
        "colab": {
          "base_uri": "https://localhost:8080/",
          "height": 446
        },
        "id": "k0jYhYW9uKrD",
        "outputId": "b9e01798-a212-4535-c158-23ef1f7f39c9"
      },
      "source": [
        "X = df1_train.drop(['Survived'],axis=1)\n",
        "y = df1_train['Survived']\n",
        "\n",
        "# train test split\n",
        "X_train, X_test, y_train, y_test = train_test_split(X, y, test_size = 0.2, random_state=42)\n",
        "\n",
        "\n",
        "standadizer = StandardScaler()\n",
        "X_train = standadizer.fit_transform(X_train)\n",
        "X_test = standadizer.transform(X_test)\n",
        "\n",
        "# Reducing the dimensions in our dataset and specifying the number of components\n",
        "lda = LDA(n_components=7)\n",
        "X_train = lda.fit_transform(X_train, y_train)\n",
        "X_test = lda.transform(X_test)\n",
        "\n",
        "# Instantiating our model and setting k as 5\n",
        "knn = KNeighborsClassifier(n_neighbors=5) \n",
        "\n",
        "# Training our model\n",
        "knn.fit(X_train, y_train) \n",
        "\n",
        "# Making Predictions using our model \n",
        "y_pred_train= knn.predict(X_test) \n",
        "y_pred_test= knn.predict(X_train)\n",
        "\n",
        "# Model Performance\n",
        "print('Accuracy for test set: ', accuracy_score(y_test, y_pred_test))\n",
        "print(\"Accuracy for train set: \", accuracy_score(y_train, y_pred_train))\n",
        "print('\\n')\n",
        "print(confusion_matrix(y_test, y_pred_test))\n",
        "print(confusion_matrix(y_train, y_pred_train))\n",
        "print('\\n')\n",
        "print(classification_report(y_test, y_pred_test))\n",
        "print(classification_report(y_train, y_pred_train))"
      ],
      "execution_count": 401,
      "outputs": [
        {
          "output_type": "stream",
          "name": "stderr",
          "text": [
            "/usr/local/lib/python3.7/dist-packages/sklearn/discriminant_analysis.py:463: ChangedBehaviorWarning: n_components cannot be larger than min(n_features, n_classes - 1). Using min(n_features, n_classes - 1) = min(8, 2 - 1) = 1 components.\n",
            "  ChangedBehaviorWarning)\n",
            "/usr/local/lib/python3.7/dist-packages/sklearn/discriminant_analysis.py:469: FutureWarning: In version 0.23, setting n_components > min(n_features, n_classes - 1) will raise a ValueError. You should set n_components to None (default), or a value smaller or equal to min(n_features, n_classes - 1).\n",
            "  warnings.warn(future_msg, FutureWarning)\n"
          ]
        },
        {
          "output_type": "error",
          "ename": "ValueError",
          "evalue": "ignored",
          "traceback": [
            "\u001b[0;31m---------------------------------------------------------------------------\u001b[0m",
            "\u001b[0;31mValueError\u001b[0m                                Traceback (most recent call last)",
            "\u001b[0;32m<ipython-input-401-f36966b9deaf>\u001b[0m in \u001b[0;36m<module>\u001b[0;34m()\u001b[0m\n\u001b[1;32m     26\u001b[0m \u001b[0;34m\u001b[0m\u001b[0m\n\u001b[1;32m     27\u001b[0m \u001b[0;31m# Model Performance\u001b[0m\u001b[0;34m\u001b[0m\u001b[0;34m\u001b[0m\u001b[0;34m\u001b[0m\u001b[0m\n\u001b[0;32m---> 28\u001b[0;31m \u001b[0mprint\u001b[0m\u001b[0;34m(\u001b[0m\u001b[0;34m'Accuracy for test set: '\u001b[0m\u001b[0;34m,\u001b[0m \u001b[0maccuracy_score\u001b[0m\u001b[0;34m(\u001b[0m\u001b[0my_test\u001b[0m\u001b[0;34m,\u001b[0m \u001b[0my_pred_test\u001b[0m\u001b[0;34m)\u001b[0m\u001b[0;34m)\u001b[0m\u001b[0;34m\u001b[0m\u001b[0;34m\u001b[0m\u001b[0m\n\u001b[0m\u001b[1;32m     29\u001b[0m \u001b[0mprint\u001b[0m\u001b[0;34m(\u001b[0m\u001b[0;34m\"Accuracy for train set: \"\u001b[0m\u001b[0;34m,\u001b[0m \u001b[0maccuracy_score\u001b[0m\u001b[0;34m(\u001b[0m\u001b[0my_train\u001b[0m\u001b[0;34m,\u001b[0m \u001b[0my_pred_train\u001b[0m\u001b[0;34m)\u001b[0m\u001b[0;34m)\u001b[0m\u001b[0;34m\u001b[0m\u001b[0;34m\u001b[0m\u001b[0m\n\u001b[1;32m     30\u001b[0m \u001b[0mprint\u001b[0m\u001b[0;34m(\u001b[0m\u001b[0;34m'\\n'\u001b[0m\u001b[0;34m)\u001b[0m\u001b[0;34m\u001b[0m\u001b[0;34m\u001b[0m\u001b[0m\n",
            "\u001b[0;32m/usr/local/lib/python3.7/dist-packages/sklearn/metrics/_classification.py\u001b[0m in \u001b[0;36maccuracy_score\u001b[0;34m(y_true, y_pred, normalize, sample_weight)\u001b[0m\n\u001b[1;32m    183\u001b[0m \u001b[0;34m\u001b[0m\u001b[0m\n\u001b[1;32m    184\u001b[0m     \u001b[0;31m# Compute accuracy for each possible representation\u001b[0m\u001b[0;34m\u001b[0m\u001b[0;34m\u001b[0m\u001b[0;34m\u001b[0m\u001b[0m\n\u001b[0;32m--> 185\u001b[0;31m     \u001b[0my_type\u001b[0m\u001b[0;34m,\u001b[0m \u001b[0my_true\u001b[0m\u001b[0;34m,\u001b[0m \u001b[0my_pred\u001b[0m \u001b[0;34m=\u001b[0m \u001b[0m_check_targets\u001b[0m\u001b[0;34m(\u001b[0m\u001b[0my_true\u001b[0m\u001b[0;34m,\u001b[0m \u001b[0my_pred\u001b[0m\u001b[0;34m)\u001b[0m\u001b[0;34m\u001b[0m\u001b[0;34m\u001b[0m\u001b[0m\n\u001b[0m\u001b[1;32m    186\u001b[0m     \u001b[0mcheck_consistent_length\u001b[0m\u001b[0;34m(\u001b[0m\u001b[0my_true\u001b[0m\u001b[0;34m,\u001b[0m \u001b[0my_pred\u001b[0m\u001b[0;34m,\u001b[0m \u001b[0msample_weight\u001b[0m\u001b[0;34m)\u001b[0m\u001b[0;34m\u001b[0m\u001b[0;34m\u001b[0m\u001b[0m\n\u001b[1;32m    187\u001b[0m     \u001b[0;32mif\u001b[0m \u001b[0my_type\u001b[0m\u001b[0;34m.\u001b[0m\u001b[0mstartswith\u001b[0m\u001b[0;34m(\u001b[0m\u001b[0;34m'multilabel'\u001b[0m\u001b[0;34m)\u001b[0m\u001b[0;34m:\u001b[0m\u001b[0;34m\u001b[0m\u001b[0;34m\u001b[0m\u001b[0m\n",
            "\u001b[0;32m/usr/local/lib/python3.7/dist-packages/sklearn/metrics/_classification.py\u001b[0m in \u001b[0;36m_check_targets\u001b[0;34m(y_true, y_pred)\u001b[0m\n\u001b[1;32m     78\u001b[0m     \u001b[0my_pred\u001b[0m \u001b[0;34m:\u001b[0m \u001b[0marray\u001b[0m \u001b[0;32mor\u001b[0m \u001b[0mindicator\u001b[0m \u001b[0mmatrix\u001b[0m\u001b[0;34m\u001b[0m\u001b[0;34m\u001b[0m\u001b[0m\n\u001b[1;32m     79\u001b[0m     \"\"\"\n\u001b[0;32m---> 80\u001b[0;31m     \u001b[0mcheck_consistent_length\u001b[0m\u001b[0;34m(\u001b[0m\u001b[0my_true\u001b[0m\u001b[0;34m,\u001b[0m \u001b[0my_pred\u001b[0m\u001b[0;34m)\u001b[0m\u001b[0;34m\u001b[0m\u001b[0;34m\u001b[0m\u001b[0m\n\u001b[0m\u001b[1;32m     81\u001b[0m     \u001b[0mtype_true\u001b[0m \u001b[0;34m=\u001b[0m \u001b[0mtype_of_target\u001b[0m\u001b[0;34m(\u001b[0m\u001b[0my_true\u001b[0m\u001b[0;34m)\u001b[0m\u001b[0;34m\u001b[0m\u001b[0;34m\u001b[0m\u001b[0m\n\u001b[1;32m     82\u001b[0m     \u001b[0mtype_pred\u001b[0m \u001b[0;34m=\u001b[0m \u001b[0mtype_of_target\u001b[0m\u001b[0;34m(\u001b[0m\u001b[0my_pred\u001b[0m\u001b[0;34m)\u001b[0m\u001b[0;34m\u001b[0m\u001b[0;34m\u001b[0m\u001b[0m\n",
            "\u001b[0;32m/usr/local/lib/python3.7/dist-packages/sklearn/utils/validation.py\u001b[0m in \u001b[0;36mcheck_consistent_length\u001b[0;34m(*arrays)\u001b[0m\n\u001b[1;32m    210\u001b[0m     \u001b[0;32mif\u001b[0m \u001b[0mlen\u001b[0m\u001b[0;34m(\u001b[0m\u001b[0muniques\u001b[0m\u001b[0;34m)\u001b[0m \u001b[0;34m>\u001b[0m \u001b[0;36m1\u001b[0m\u001b[0;34m:\u001b[0m\u001b[0;34m\u001b[0m\u001b[0;34m\u001b[0m\u001b[0m\n\u001b[1;32m    211\u001b[0m         raise ValueError(\"Found input variables with inconsistent numbers of\"\n\u001b[0;32m--> 212\u001b[0;31m                          \" samples: %r\" % [int(l) for l in lengths])\n\u001b[0m\u001b[1;32m    213\u001b[0m \u001b[0;34m\u001b[0m\u001b[0m\n\u001b[1;32m    214\u001b[0m \u001b[0;34m\u001b[0m\u001b[0m\n",
            "\u001b[0;31mValueError\u001b[0m: Found input variables with inconsistent numbers of samples: [179, 712]"
          ]
        }
      ]
    },
    {
      "cell_type": "code",
      "metadata": {
        "colab": {
          "base_uri": "https://localhost:8080/"
        },
        "id": "d1wDVc7BuK1_",
        "outputId": "effc749a-c27e-4f11-a216-2d8c69ebb81e"
      },
      "source": [
        "df1_train.shape"
      ],
      "execution_count": 393,
      "outputs": [
        {
          "output_type": "execute_result",
          "data": {
            "text/plain": [
              "(891, 9)"
            ]
          },
          "metadata": {},
          "execution_count": 393
        }
      ]
    },
    {
      "cell_type": "code",
      "metadata": {
        "colab": {
          "base_uri": "https://localhost:8080/"
        },
        "id": "TdTSKLS6A3WD",
        "outputId": "067e2993-03b7-4823-cf2c-9c19dff93032"
      },
      "source": [
        "df1_test.shape"
      ],
      "execution_count": 394,
      "outputs": [
        {
          "output_type": "execute_result",
          "data": {
            "text/plain": [
              "(418, 8)"
            ]
          },
          "metadata": {},
          "execution_count": 394
        }
      ]
    },
    {
      "cell_type": "markdown",
      "metadata": {
        "id": "jKgMn3EsDtAW"
      },
      "source": [
        "finding the best parameters"
      ]
    },
    {
      "cell_type": "code",
      "metadata": {
        "id": "OPC9U73dA5wo"
      },
      "source": [
        "X = df1_train.drop(['Survived'],axis=1)\n",
        "y = df1_train['Survived']\n",
        "\n",
        "# train test split\n",
        "X_train, X_test, y_train, y_test = train_test_split(X, y, test_size = 0.2, random_state=42)\n",
        "\n",
        "# Splitting the data into test and train sets\n",
        "X_train = df1_train.drop('Survived', axis = 1)\n",
        "y_train = df1_train['Survived']\n",
        "X_test = df1_test\n",
        "\n",
        "standadizer = StandardScaler()\n",
        "X_train = standadizer.fit_transform(X_train)\n",
        "X_test = standadizer.transform(X_test)\n",
        "\n",
        "# Instantiating our model and setting k as 5\n",
        "knn = KNeighborsClassifier(n_neighbors=5) \n",
        "\n",
        "# Training our model\n",
        "knn.fit(X_train, y_train) \n",
        "\n",
        "# Making Predictions using our model \n",
        "\n",
        "y_pred_train= knn.predict(X_test) \n",
        "y_pred_test= knn.predict(X_train)\n"
      ],
      "execution_count": 402,
      "outputs": []
    },
    {
      "cell_type": "code",
      "metadata": {
        "id": "i_QGbYZ_HMc9"
      },
      "source": [
        ""
      ],
      "execution_count": null,
      "outputs": []
    }
  ]
}